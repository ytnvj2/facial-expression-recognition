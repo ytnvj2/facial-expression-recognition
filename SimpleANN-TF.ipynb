{
 "cells": [
  {
   "cell_type": "code",
   "execution_count": 1,
   "metadata": {},
   "outputs": [],
   "source": [
    "import pandas as pd\n",
    "import numpy as np\n",
    "import os\n",
    "import matplotlib.pyplot as plt\n",
    "raw_data_path=os.path.join('data','raw')\n",
    "df=pd.read_csv(os.path.join(raw_data_path,'fer2013.csv'))\n",
    "X=[]\n",
    "for i in range(len(df)):\n",
    "    X.append(df.loc[i,'pixels'].split(' '))\n",
    "X=np.array(X,np.float32)/255.\n",
    "y=df.emotion.values\n",
    "X_train=X[np.where(df.Usage=='Training')]\n",
    "y_train=y[np.where((df.Usage=='Training'))]\n",
    "X_test=X[np.where((df.Usage!='Training'))]\n",
    "y_test=y[np.where((df.Usage!='Training'))]\n",
    "def balance_classes(X,y):\n",
    "    X1=X[np.where(y!=1)]\n",
    "    X2=X[np.where(y==1)]\n",
    "    X2=np.repeat(X2,9,axis=0)\n",
    "    X=np.concatenate((X1,X2),axis=0)\n",
    "    y1=y[np.where(y!=1)]\n",
    "    y2=y[np.where(y==1)]\n",
    "    y2=np.repeat(y2,9,axis=0)\n",
    "    y=np.concatenate((y1,y2),axis=0)\n",
    "    i=[i for i in range(len(y))]\n",
    "    np.random.shuffle(i)\n",
    "    return X[i],y[i]\n",
    "X_train,y_train=balance_classes(X_train,y_train)\n",
    "def one_hot_encoder(X):\n",
    "    N=len(X)\n",
    "    K=len(set(X))\n",
    "    Z=np.zeros((N,K))\n",
    "    for i in range(N):\n",
    "        c=X[i]\n",
    "        Z[i,c]=1\n",
    "    return Z\n",
    "y_train=one_hot_encoder(y_train)"
   ]
  },
  {
   "cell_type": "code",
   "execution_count": 2,
   "metadata": {},
   "outputs": [
    {
     "name": "stderr",
     "output_type": "stream",
     "text": [
      "C:\\Users\\ytnvj\\Anaconda3\\lib\\site-packages\\h5py\\__init__.py:36: FutureWarning: Conversion of the second argument of issubdtype from `float` to `np.floating` is deprecated. In future, it will be treated as `np.float64 == np.dtype(float).type`.\n",
      "  from ._conv import register_converters as _register_converters\n"
     ]
    }
   ],
   "source": [
    "import tensorflow as tf"
   ]
  },
  {
   "cell_type": "code",
   "execution_count": 6,
   "metadata": {},
   "outputs": [],
   "source": [
    "class TF_ANN(object):\n",
    "    def __init__(self,lr,epoch,hu):\n",
    "        self.hu=hu\n",
    "        self.lr=lr\n",
    "        self.epoch=epoch\n",
    "        pass\n",
    "    def init_weights(self,shape):\n",
    "        return tf.Variable(tf.random_normal(shape,stddev=0.01))\n",
    "    def forward(self,X,W1,b1,W2,b2):\n",
    "        z=tf.nn.sigmoid(tf.matmul(X,W1)+b1)\n",
    "        return (tf.matmul(z,W2)+b2)\n",
    "    def fit(self,X,y,fig=True):\n",
    "        N,D=X.shape\n",
    "        K=y.shape[1]\n",
    "        W1=self.init_weights([D,self.hu])\n",
    "        b1=self.init_weights([self.hu])\n",
    "        W2=self.init_weights([self.hu,K])\n",
    "        b2=self.init_weights([K])\n",
    "        tr_i=np.random.choice(N,int(N*0.9),replace=False)\n",
    "        t_i=[i for i in range(N) if i not in tr_i]\n",
    "        X_train=X[tr_i]\n",
    "        y_train=y[tr_i]\n",
    "        X_test=X[t_i]\n",
    "        y_test=y[t_i]\n",
    "        c_t=[]\n",
    "        c_v=[]\n",
    "        cl_t=[]\n",
    "        cl_v=[]\n",
    "        tfX=tf.placeholder(tf.float32,[None,D])\n",
    "        tfY=tf.placeholder(tf.float32,[None,K])\n",
    "        y_p=self.forward(tfX,W1,b1,W2,b2)\n",
    "        cost=tf.reduce_mean(tf.nn.softmax_cross_entropy_with_logits_v2(labels=tfY,logits=y_p))\n",
    "        optimizer=tf.train.GradientDescentOptimizer(self.lr)\n",
    "        train=optimizer.minimize(cost)\n",
    "        with tf.Session() as s:\n",
    "            s.run(tf.global_variables_initializer())\n",
    "            s.run(y_p,feed_dict={tfX:X_train})\n",
    "            for i in range(self.epoch):\n",
    "                c_t.append(s.run(cost,feed_dict={tfX:X_train,tfY:y_train}))\n",
    "                c_v.append(s.run(cost,feed_dict={tfX:X_test,tfY:y_test})) \n",
    "                y=s.run(tf.argmax(tfY,1),feed_dict={tfY:y_train})\n",
    "                yp=s.run(tf.argmax(y_p,1),feed_dict={tfX:X_train})\n",
    "                cl_t.append(self.score(y,yp))  \n",
    "                y=s.run(tf.argmax(tfY,1),feed_dict={tfY:y_test})\n",
    "                yp=s.run(tf.argmax(y_p,1),feed_dict={tfX:X_test})\n",
    "                cl_v.append(self.score(y,yp))\n",
    "                s.run(train,feed_dict={tfX:X_train,tfY:y_train})\n",
    "                if i % 100==0:\n",
    "                    print('Epoch {0} Train Cost: {1} , Classification: {2} , Test Cost {3} , Classification : {4}'.format(i,c_t[i],\n",
    "                                                                                                                      cl_t[i],\n",
    "                                                                                                                      c_v[i],\n",
    "                                                                                                                      cl_v[i]))\n",
    "            self.W1=s.run(W1)\n",
    "            self.W2=s.run(W2)\n",
    "            self.b1=s.run(b1)\n",
    "            self.b2=s.run(b2)\n",
    "        if fig == True:\n",
    "            plt.plot(c_t,label='Train Cost')\n",
    "            plt.plot(c_v,label='Test Cost')\n",
    "            plt.show()\n",
    "            plt.plot(cl_t,label='Train Class')\n",
    "            plt.plot(cl_v,label='Test Class')\n",
    "            plt.show()\n",
    "    def predict(self,X):\n",
    "        act = self.forward(X,self.W1,self.b1,self.W2,self.b2)\n",
    "        return tf.argmax(act, 1)\n",
    "    def score(self,y,y_p):\n",
    "        return np.mean(y==y_p)"
   ]
  },
  {
   "cell_type": "code",
   "execution_count": 9,
   "metadata": {},
   "outputs": [],
   "source": [
    "ann=TF_ANN(0.0001,10000,5)"
   ]
  },
  {
   "cell_type": "code",
   "execution_count": 10,
   "metadata": {},
   "outputs": [
    {
     "name": "stdout",
     "output_type": "stream",
     "text": [
      "Epoch 0 Train Cost: 1.9450747966766357 , Classification: 0.12585843945197916 , Test Cost 1.9448368549346924 , Classification : 0.13167701863354037\n",
      "Epoch 100 Train Cost: 1.944872498512268 , Classification: 0.12799806743279152 , Test Cost 1.9446278810501099 , Classification : 0.12888198757763975\n",
      "Epoch 200 Train Cost: 1.9446709156036377 , Classification: 0.12879180039341548 , Test Cost 1.9444199800491333 , Classification : 0.13105590062111802\n",
      "Epoch 300 Train Cost: 1.9444705247879028 , Classification: 0.1344514615039514 , Test Cost 1.9442133903503418 , Classification : 0.13167701863354037\n",
      "Epoch 400 Train Cost: 1.9442715644836426 , Classification: 0.1396624909410912 , Test Cost 1.9440077543258667 , Classification : 0.1357142857142857\n",
      "Epoch 500 Train Cost: 1.94407320022583 , Classification: 0.14521862166545882 , Test Cost 1.9438031911849976 , Classification : 0.13944099378881988\n",
      "Epoch 600 Train Cost: 1.9438762664794922 , Classification: 0.14808296234944957 , Test Cost 1.943599820137024 , Classification : 0.13975155279503104\n",
      "Epoch 700 Train Cost: 1.9436801671981812 , Classification: 0.15001552955792524 , Test Cost 1.9433976411819458 , Classification : 0.14347826086956522\n",
      "Epoch 800 Train Cost: 1.9434852600097656 , Classification: 0.15029161058770749 , Test Cost 1.943196177482605 , Classification : 0.14565217391304347\n",
      "Epoch 900 Train Cost: 1.943291187286377 , Classification: 0.15032612071643028 , Test Cost 1.9429959058761597 , Classification : 0.14472049689440994\n",
      "Epoch 1000 Train Cost: 1.9430981874465942 , Classification: 0.15677951478759017 , Test Cost 1.9427964687347412 , Classification : 0.15683229813664595\n",
      "Epoch 1100 Train Cost: 1.9429062604904175 , Classification: 0.2159298754184353 , Test Cost 1.9425981044769287 , Classification : 0.22142857142857142\n",
      "Epoch 1200 Train Cost: 1.9427152872085571 , Classification: 0.22386720502467475 , Test Cost 1.9424006938934326 , Classification : 0.22546583850931676\n",
      "Epoch 1300 Train Cost: 1.9425252676010132 , Classification: 0.22397073541084309 , Test Cost 1.9422043561935425 , Classification : 0.2251552795031056\n",
      "Epoch 1400 Train Cost: 1.942336082458496 , Classification: 0.22397073541084309 , Test Cost 1.9420089721679688 , Classification : 0.2251552795031056\n",
      "Epoch 1500 Train Cost: 1.9421480894088745 , Classification: 0.22397073541084309 , Test Cost 1.941814661026001 , Classification : 0.2251552795031056\n",
      "Epoch 1600 Train Cost: 1.9419609308242798 , Classification: 0.22397073541084309 , Test Cost 1.941620945930481 , Classification : 0.2251552795031056\n",
      "Epoch 1700 Train Cost: 1.9417747259140015 , Classification: 0.22397073541084309 , Test Cost 1.941428542137146 , Classification : 0.2251552795031056\n",
      "Epoch 1800 Train Cost: 1.9415892362594604 , Classification: 0.22397073541084309 , Test Cost 1.9412367343902588 , Classification : 0.2251552795031056\n"
     ]
    },
    {
     "ename": "KeyboardInterrupt",
     "evalue": "",
     "output_type": "error",
     "traceback": [
      "\u001b[1;31m---------------------------------------------------------------------------\u001b[0m",
      "\u001b[1;31mKeyboardInterrupt\u001b[0m                         Traceback (most recent call last)",
      "\u001b[1;32m<ipython-input-10-bcaaaf3b3f68>\u001b[0m in \u001b[0;36m<module>\u001b[1;34m()\u001b[0m\n\u001b[1;32m----> 1\u001b[1;33m \u001b[0mann\u001b[0m\u001b[1;33m.\u001b[0m\u001b[0mfit\u001b[0m\u001b[1;33m(\u001b[0m\u001b[0mX_train\u001b[0m\u001b[1;33m,\u001b[0m\u001b[0my_train\u001b[0m\u001b[1;33m)\u001b[0m\u001b[1;33m\u001b[0m\u001b[0m\n\u001b[0m",
      "\u001b[1;32m<ipython-input-6-cb37655e6578>\u001b[0m in \u001b[0;36mfit\u001b[1;34m(self, X, y, fig)\u001b[0m\n\u001b[0;32m     40\u001b[0m                 \u001b[0mc_v\u001b[0m\u001b[1;33m.\u001b[0m\u001b[0mappend\u001b[0m\u001b[1;33m(\u001b[0m\u001b[0ms\u001b[0m\u001b[1;33m.\u001b[0m\u001b[0mrun\u001b[0m\u001b[1;33m(\u001b[0m\u001b[0mcost\u001b[0m\u001b[1;33m,\u001b[0m\u001b[0mfeed_dict\u001b[0m\u001b[1;33m=\u001b[0m\u001b[1;33m{\u001b[0m\u001b[0mtfX\u001b[0m\u001b[1;33m:\u001b[0m\u001b[0mX_test\u001b[0m\u001b[1;33m,\u001b[0m\u001b[0mtfY\u001b[0m\u001b[1;33m:\u001b[0m\u001b[0my_test\u001b[0m\u001b[1;33m}\u001b[0m\u001b[1;33m)\u001b[0m\u001b[1;33m)\u001b[0m\u001b[1;33m\u001b[0m\u001b[0m\n\u001b[0;32m     41\u001b[0m                 \u001b[0my\u001b[0m\u001b[1;33m=\u001b[0m\u001b[0ms\u001b[0m\u001b[1;33m.\u001b[0m\u001b[0mrun\u001b[0m\u001b[1;33m(\u001b[0m\u001b[0mtf\u001b[0m\u001b[1;33m.\u001b[0m\u001b[0margmax\u001b[0m\u001b[1;33m(\u001b[0m\u001b[0mtfY\u001b[0m\u001b[1;33m,\u001b[0m\u001b[1;36m1\u001b[0m\u001b[1;33m)\u001b[0m\u001b[1;33m,\u001b[0m\u001b[0mfeed_dict\u001b[0m\u001b[1;33m=\u001b[0m\u001b[1;33m{\u001b[0m\u001b[0mtfY\u001b[0m\u001b[1;33m:\u001b[0m\u001b[0my_train\u001b[0m\u001b[1;33m}\u001b[0m\u001b[1;33m)\u001b[0m\u001b[1;33m\u001b[0m\u001b[0m\n\u001b[1;32m---> 42\u001b[1;33m                 \u001b[0myp\u001b[0m\u001b[1;33m=\u001b[0m\u001b[0ms\u001b[0m\u001b[1;33m.\u001b[0m\u001b[0mrun\u001b[0m\u001b[1;33m(\u001b[0m\u001b[0mtf\u001b[0m\u001b[1;33m.\u001b[0m\u001b[0margmax\u001b[0m\u001b[1;33m(\u001b[0m\u001b[0my_p\u001b[0m\u001b[1;33m,\u001b[0m\u001b[1;36m1\u001b[0m\u001b[1;33m)\u001b[0m\u001b[1;33m,\u001b[0m\u001b[0mfeed_dict\u001b[0m\u001b[1;33m=\u001b[0m\u001b[1;33m{\u001b[0m\u001b[0mtfX\u001b[0m\u001b[1;33m:\u001b[0m\u001b[0mX_train\u001b[0m\u001b[1;33m}\u001b[0m\u001b[1;33m)\u001b[0m\u001b[1;33m\u001b[0m\u001b[0m\n\u001b[0m\u001b[0;32m     43\u001b[0m                 \u001b[0mcl_t\u001b[0m\u001b[1;33m.\u001b[0m\u001b[0mappend\u001b[0m\u001b[1;33m(\u001b[0m\u001b[0mself\u001b[0m\u001b[1;33m.\u001b[0m\u001b[0mscore\u001b[0m\u001b[1;33m(\u001b[0m\u001b[0my\u001b[0m\u001b[1;33m,\u001b[0m\u001b[0myp\u001b[0m\u001b[1;33m)\u001b[0m\u001b[1;33m)\u001b[0m\u001b[1;33m\u001b[0m\u001b[0m\n\u001b[0;32m     44\u001b[0m                 \u001b[0my\u001b[0m\u001b[1;33m=\u001b[0m\u001b[0ms\u001b[0m\u001b[1;33m.\u001b[0m\u001b[0mrun\u001b[0m\u001b[1;33m(\u001b[0m\u001b[0mtf\u001b[0m\u001b[1;33m.\u001b[0m\u001b[0margmax\u001b[0m\u001b[1;33m(\u001b[0m\u001b[0mtfY\u001b[0m\u001b[1;33m,\u001b[0m\u001b[1;36m1\u001b[0m\u001b[1;33m)\u001b[0m\u001b[1;33m,\u001b[0m\u001b[0mfeed_dict\u001b[0m\u001b[1;33m=\u001b[0m\u001b[1;33m{\u001b[0m\u001b[0mtfY\u001b[0m\u001b[1;33m:\u001b[0m\u001b[0my_test\u001b[0m\u001b[1;33m}\u001b[0m\u001b[1;33m)\u001b[0m\u001b[1;33m\u001b[0m\u001b[0m\n",
      "\u001b[1;32m~\\Anaconda3\\lib\\site-packages\\tensorflow\\python\\client\\session.py\u001b[0m in \u001b[0;36mrun\u001b[1;34m(self, fetches, feed_dict, options, run_metadata)\u001b[0m\n\u001b[0;32m    898\u001b[0m     \u001b[1;32mtry\u001b[0m\u001b[1;33m:\u001b[0m\u001b[1;33m\u001b[0m\u001b[0m\n\u001b[0;32m    899\u001b[0m       result = self._run(None, fetches, feed_dict, options_ptr,\n\u001b[1;32m--> 900\u001b[1;33m                          run_metadata_ptr)\n\u001b[0m\u001b[0;32m    901\u001b[0m       \u001b[1;32mif\u001b[0m \u001b[0mrun_metadata\u001b[0m\u001b[1;33m:\u001b[0m\u001b[1;33m\u001b[0m\u001b[0m\n\u001b[0;32m    902\u001b[0m         \u001b[0mproto_data\u001b[0m \u001b[1;33m=\u001b[0m \u001b[0mtf_session\u001b[0m\u001b[1;33m.\u001b[0m\u001b[0mTF_GetBuffer\u001b[0m\u001b[1;33m(\u001b[0m\u001b[0mrun_metadata_ptr\u001b[0m\u001b[1;33m)\u001b[0m\u001b[1;33m\u001b[0m\u001b[0m\n",
      "\u001b[1;32m~\\Anaconda3\\lib\\site-packages\\tensorflow\\python\\client\\session.py\u001b[0m in \u001b[0;36m_run\u001b[1;34m(self, handle, fetches, feed_dict, options, run_metadata)\u001b[0m\n\u001b[0;32m   1133\u001b[0m     \u001b[1;32mif\u001b[0m \u001b[0mfinal_fetches\u001b[0m \u001b[1;32mor\u001b[0m \u001b[0mfinal_targets\u001b[0m \u001b[1;32mor\u001b[0m \u001b[1;33m(\u001b[0m\u001b[0mhandle\u001b[0m \u001b[1;32mand\u001b[0m \u001b[0mfeed_dict_tensor\u001b[0m\u001b[1;33m)\u001b[0m\u001b[1;33m:\u001b[0m\u001b[1;33m\u001b[0m\u001b[0m\n\u001b[0;32m   1134\u001b[0m       results = self._do_run(handle, final_targets, final_fetches,\n\u001b[1;32m-> 1135\u001b[1;33m                              feed_dict_tensor, options, run_metadata)\n\u001b[0m\u001b[0;32m   1136\u001b[0m     \u001b[1;32melse\u001b[0m\u001b[1;33m:\u001b[0m\u001b[1;33m\u001b[0m\u001b[0m\n\u001b[0;32m   1137\u001b[0m       \u001b[0mresults\u001b[0m \u001b[1;33m=\u001b[0m \u001b[1;33m[\u001b[0m\u001b[1;33m]\u001b[0m\u001b[1;33m\u001b[0m\u001b[0m\n",
      "\u001b[1;32m~\\Anaconda3\\lib\\site-packages\\tensorflow\\python\\client\\session.py\u001b[0m in \u001b[0;36m_do_run\u001b[1;34m(self, handle, target_list, fetch_list, feed_dict, options, run_metadata)\u001b[0m\n\u001b[0;32m   1314\u001b[0m     \u001b[1;32mif\u001b[0m \u001b[0mhandle\u001b[0m \u001b[1;32mis\u001b[0m \u001b[1;32mNone\u001b[0m\u001b[1;33m:\u001b[0m\u001b[1;33m\u001b[0m\u001b[0m\n\u001b[0;32m   1315\u001b[0m       return self._do_call(_run_fn, feeds, fetches, targets, options,\n\u001b[1;32m-> 1316\u001b[1;33m                            run_metadata)\n\u001b[0m\u001b[0;32m   1317\u001b[0m     \u001b[1;32melse\u001b[0m\u001b[1;33m:\u001b[0m\u001b[1;33m\u001b[0m\u001b[0m\n\u001b[0;32m   1318\u001b[0m       \u001b[1;32mreturn\u001b[0m \u001b[0mself\u001b[0m\u001b[1;33m.\u001b[0m\u001b[0m_do_call\u001b[0m\u001b[1;33m(\u001b[0m\u001b[0m_prun_fn\u001b[0m\u001b[1;33m,\u001b[0m \u001b[0mhandle\u001b[0m\u001b[1;33m,\u001b[0m \u001b[0mfeeds\u001b[0m\u001b[1;33m,\u001b[0m \u001b[0mfetches\u001b[0m\u001b[1;33m)\u001b[0m\u001b[1;33m\u001b[0m\u001b[0m\n",
      "\u001b[1;32m~\\Anaconda3\\lib\\site-packages\\tensorflow\\python\\client\\session.py\u001b[0m in \u001b[0;36m_do_call\u001b[1;34m(self, fn, *args)\u001b[0m\n\u001b[0;32m   1320\u001b[0m   \u001b[1;32mdef\u001b[0m \u001b[0m_do_call\u001b[0m\u001b[1;33m(\u001b[0m\u001b[0mself\u001b[0m\u001b[1;33m,\u001b[0m \u001b[0mfn\u001b[0m\u001b[1;33m,\u001b[0m \u001b[1;33m*\u001b[0m\u001b[0margs\u001b[0m\u001b[1;33m)\u001b[0m\u001b[1;33m:\u001b[0m\u001b[1;33m\u001b[0m\u001b[0m\n\u001b[0;32m   1321\u001b[0m     \u001b[1;32mtry\u001b[0m\u001b[1;33m:\u001b[0m\u001b[1;33m\u001b[0m\u001b[0m\n\u001b[1;32m-> 1322\u001b[1;33m       \u001b[1;32mreturn\u001b[0m \u001b[0mfn\u001b[0m\u001b[1;33m(\u001b[0m\u001b[1;33m*\u001b[0m\u001b[0margs\u001b[0m\u001b[1;33m)\u001b[0m\u001b[1;33m\u001b[0m\u001b[0m\n\u001b[0m\u001b[0;32m   1323\u001b[0m     \u001b[1;32mexcept\u001b[0m \u001b[0merrors\u001b[0m\u001b[1;33m.\u001b[0m\u001b[0mOpError\u001b[0m \u001b[1;32mas\u001b[0m \u001b[0me\u001b[0m\u001b[1;33m:\u001b[0m\u001b[1;33m\u001b[0m\u001b[0m\n\u001b[0;32m   1324\u001b[0m       \u001b[0mmessage\u001b[0m \u001b[1;33m=\u001b[0m \u001b[0mcompat\u001b[0m\u001b[1;33m.\u001b[0m\u001b[0mas_text\u001b[0m\u001b[1;33m(\u001b[0m\u001b[0me\u001b[0m\u001b[1;33m.\u001b[0m\u001b[0mmessage\u001b[0m\u001b[1;33m)\u001b[0m\u001b[1;33m\u001b[0m\u001b[0m\n",
      "\u001b[1;32m~\\Anaconda3\\lib\\site-packages\\tensorflow\\python\\client\\session.py\u001b[0m in \u001b[0;36m_run_fn\u001b[1;34m(feed_dict, fetch_list, target_list, options, run_metadata)\u001b[0m\n\u001b[0;32m   1303\u001b[0m     \u001b[1;32mdef\u001b[0m \u001b[0m_run_fn\u001b[0m\u001b[1;33m(\u001b[0m\u001b[0mfeed_dict\u001b[0m\u001b[1;33m,\u001b[0m \u001b[0mfetch_list\u001b[0m\u001b[1;33m,\u001b[0m \u001b[0mtarget_list\u001b[0m\u001b[1;33m,\u001b[0m \u001b[0moptions\u001b[0m\u001b[1;33m,\u001b[0m \u001b[0mrun_metadata\u001b[0m\u001b[1;33m)\u001b[0m\u001b[1;33m:\u001b[0m\u001b[1;33m\u001b[0m\u001b[0m\n\u001b[0;32m   1304\u001b[0m       \u001b[1;31m# Ensure any changes to the graph are reflected in the runtime.\u001b[0m\u001b[1;33m\u001b[0m\u001b[1;33m\u001b[0m\u001b[0m\n\u001b[1;32m-> 1305\u001b[1;33m       \u001b[0mself\u001b[0m\u001b[1;33m.\u001b[0m\u001b[0m_extend_graph\u001b[0m\u001b[1;33m(\u001b[0m\u001b[1;33m)\u001b[0m\u001b[1;33m\u001b[0m\u001b[0m\n\u001b[0m\u001b[0;32m   1306\u001b[0m       return self._call_tf_sessionrun(\n\u001b[0;32m   1307\u001b[0m           options, feed_dict, fetch_list, target_list, run_metadata)\n",
      "\u001b[1;32m~\\Anaconda3\\lib\\site-packages\\tensorflow\\python\\client\\session.py\u001b[0m in \u001b[0;36m_extend_graph\u001b[1;34m(self)\u001b[0m\n\u001b[0;32m   1338\u001b[0m     \u001b[1;32mif\u001b[0m \u001b[0mself\u001b[0m\u001b[1;33m.\u001b[0m\u001b[0m_created_with_new_api\u001b[0m\u001b[1;33m:\u001b[0m\u001b[1;33m\u001b[0m\u001b[0m\n\u001b[0;32m   1339\u001b[0m       \u001b[1;32mwith\u001b[0m \u001b[0mself\u001b[0m\u001b[1;33m.\u001b[0m\u001b[0m_graph\u001b[0m\u001b[1;33m.\u001b[0m\u001b[0m_lock\u001b[0m\u001b[1;33m:\u001b[0m  \u001b[1;31m# pylint: disable=protected-access\u001b[0m\u001b[1;33m\u001b[0m\u001b[0m\n\u001b[1;32m-> 1340\u001b[1;33m         \u001b[0mtf_session\u001b[0m\u001b[1;33m.\u001b[0m\u001b[0mExtendSession\u001b[0m\u001b[1;33m(\u001b[0m\u001b[0mself\u001b[0m\u001b[1;33m.\u001b[0m\u001b[0m_session\u001b[0m\u001b[1;33m)\u001b[0m\u001b[1;33m\u001b[0m\u001b[0m\n\u001b[0m\u001b[0;32m   1341\u001b[0m     \u001b[1;32melse\u001b[0m\u001b[1;33m:\u001b[0m\u001b[1;33m\u001b[0m\u001b[0m\n\u001b[0;32m   1342\u001b[0m       \u001b[1;31m# Ensure any changes to the graph are reflected in the runtime.\u001b[0m\u001b[1;33m\u001b[0m\u001b[1;33m\u001b[0m\u001b[0m\n",
      "\u001b[1;31mKeyboardInterrupt\u001b[0m: "
     ]
    }
   ],
   "source": [
    "ann.fit(X_train,y_train)"
   ]
  },
  {
   "cell_type": "code",
   "execution_count": 18,
   "metadata": {},
   "outputs": [
    {
     "data": {
      "text/plain": [
       "(32197, 7)"
      ]
     },
     "execution_count": 18,
     "metadata": {},
     "output_type": "execute_result"
    }
   ],
   "source": [
    "y_train.shape"
   ]
  },
  {
   "cell_type": "code",
   "execution_count": null,
   "metadata": {},
   "outputs": [],
   "source": []
  }
 ],
 "metadata": {
  "kernelspec": {
   "display_name": "Python 3",
   "language": "python",
   "name": "python3"
  },
  "language_info": {
   "codemirror_mode": {
    "name": "ipython",
    "version": 3
   },
   "file_extension": ".py",
   "mimetype": "text/x-python",
   "name": "python",
   "nbconvert_exporter": "python",
   "pygments_lexer": "ipython3",
   "version": "3.6.5"
  }
 },
 "nbformat": 4,
 "nbformat_minor": 2
}
