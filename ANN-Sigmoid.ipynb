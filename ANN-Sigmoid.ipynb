{
 "cells": [
  {
   "cell_type": "code",
   "execution_count": 1,
   "metadata": {},
   "outputs": [],
   "source": [
    "import numpy as np\n",
    "import pandas as pd\n",
    "import matplotlib.pyplot as plt\n",
    "import os\n",
    "raw_data_path=os.path.join('data','raw')\n",
    "df=pd.read_csv(os.path.join(raw_data_path,'fer2013.csv'))"
   ]
  },
  {
   "cell_type": "code",
   "execution_count": 9,
   "metadata": {},
   "outputs": [],
   "source": [
    "X=[]\n",
    "for i in range(len(df)):\n",
    "    X.append(df.loc[i,'pixels'].split(' '))\n",
    "X=np.array(X,np.float32)/255.\n",
    "y=df.emotion.values"
   ]
  },
  {
   "cell_type": "code",
   "execution_count": 10,
   "metadata": {},
   "outputs": [],
   "source": [
    "import tensorflow as tf"
   ]
  },
  {
   "cell_type": "code",
   "execution_count": 11,
   "metadata": {},
   "outputs": [
    {
     "data": {
      "text/plain": [
       "(35887, 2304)"
      ]
     },
     "execution_count": 11,
     "metadata": {},
     "output_type": "execute_result"
    }
   ],
   "source": [
    "X.shape"
   ]
  },
  {
   "cell_type": "code",
   "execution_count": 15,
   "metadata": {},
   "outputs": [],
   "source": [
    "X_train=X[np.where((df.Usage=='Training') & ((df.emotion==0) | (df.emotion==1)))]\n",
    "y_train=y[np.where((df.Usage=='Training')& ((df.emotion==0) | (df.emotion==1)))]\n",
    "X_test=X[np.where((df.Usage!='Training')& ((df.emotion==0) | (df.emotion==1)))]\n",
    "y_test=y[np.where((df.Usage!='Training')& ((df.emotion==0) | (df.emotion==1)))]"
   ]
  },
  {
   "cell_type": "code",
   "execution_count": 16,
   "metadata": {},
   "outputs": [
    {
     "data": {
      "text/plain": [
       "(1069, 2304)"
      ]
     },
     "execution_count": 16,
     "metadata": {},
     "output_type": "execute_result"
    }
   ],
   "source": [
    "X_test.shape"
   ]
  },
  {
   "cell_type": "code",
   "execution_count": 17,
   "metadata": {},
   "outputs": [
    {
     "data": {
      "text/plain": [
       "(4431, 2304)"
      ]
     },
     "execution_count": 17,
     "metadata": {},
     "output_type": "execute_result"
    }
   ],
   "source": [
    "X_train.shape"
   ]
  },
  {
   "cell_type": "code",
   "execution_count": 33,
   "metadata": {},
   "outputs": [],
   "source": [
    "def balance_classes(X,y):\n",
    "    X1=X[np.where(y==0)]\n",
    "    X2=X[np.where(y==1)]\n",
    "    X2=np.repeat(X2,9,axis=0)\n",
    "    X=np.concatenate((X1,X2),axis=0)\n",
    "    y1=y[np.where(y==0)]\n",
    "    y2=y[np.where(y==1)]\n",
    "    y2=np.repeat(y2,9,axis=0)\n",
    "    y=np.concatenate((y1,y2),axis=0)\n",
    "    i=[i for i in range(len(y))]\n",
    "    np.random.shuffle(i)\n",
    "    return X[i],y[i]"
   ]
  },
  {
   "cell_type": "code",
   "execution_count": 36,
   "metadata": {},
   "outputs": [],
   "source": [
    "X_train,y_train=balance_classes(X_train,y_train)"
   ]
  },
  {
   "cell_type": "code",
   "execution_count": 38,
   "metadata": {},
   "outputs": [],
   "source": [
    "\n"
   ]
  },
  {
   "cell_type": "code",
   "execution_count": 39,
   "metadata": {},
   "outputs": [
    {
     "data": {
      "text/plain": [
       "array([[-0.36431416,  0.57886118],\n",
       "       [-0.4155075 ,  0.46718151]])"
      ]
     },
     "execution_count": 39,
     "metadata": {},
     "output_type": "execute_result"
    }
   ],
   "source": [
    "np.random.randn(2,2)"
   ]
  },
  {
   "cell_type": "code",
   "execution_count": 66,
   "metadata": {},
   "outputs": [],
   "source": [
    "class ANN(object):\n",
    "    def __init__(self,lr,epoch,hu):\n",
    "        self.lr=lr\n",
    "        self.epoch=epoch\n",
    "        self.hu=hu\n",
    "    def relu(self,z):\n",
    "        return z*(z>0)\n",
    "    def sigmoid(self,z):\n",
    "        return 1/(1+np.exp(-z))\n",
    "    def forward(self,X,W1,b1,W2,b2):\n",
    "        z=self.relu(X.dot(W1)+b1)\n",
    "        return z,self.sigmoid(z.dot(W2)+b2)\n",
    "    def cost(self,y,y_p):\n",
    "        return -(y*np.log(y_p)+(1-y)*np.log(1-y_p)).sum()\n",
    "    def fit(self,X,y,fig=False):\n",
    "        N,D=X.shape\n",
    "        W1=np.random.randn(D,self.hu)\n",
    "        b1=np.random.randn(self.hu)\n",
    "        W2=np.random.randn(self.hu)\n",
    "        b2=np.random.randn()\n",
    "        tr_i=np.random.choice(N,int(N*0.9),replace=False)\n",
    "        t_i=[i for i in range(N) if i not in tr_i]\n",
    "        X_t=X[tr_i]\n",
    "        y_t=y[tr_i]\n",
    "        X_v=X[t_i]\n",
    "        y_v=y[t_i]\n",
    "        c_t=[]\n",
    "        c_v=[]\n",
    "        cl_t=[]\n",
    "        cl_v=[]\n",
    "        for i in range(self.epoch):\n",
    "            z,y_p_t=self.forward(X_t,W1,b1,W2,b2)\n",
    "            _,y_p_v=self.forward(X_v,W1,b1,W2,b2)\n",
    "            dy=y_p_t-y_t\n",
    "            W2=W2-self.lr*(z.T.dot(dy))\n",
    "            b2=b2-self.lr*(dy).sum(axis=0)\n",
    "            dz=np.outer(dy,W2)*(z>0)\n",
    "            W1=W1-self.lr*X_t.T.dot(dz)\n",
    "            b1=b1-self.lr*(dz).sum(axis=0)\n",
    "            c_t.append(self.cost(y_t,y_p_t))\n",
    "            c_v.append(self.cost(y_v,y_p_v))\n",
    "            cl_t.append(np.mean(y_t==np.round(y_p_t)))\n",
    "            cl_v.append(np.mean(y_v==np.round(y_p_v)))\n",
    "            if i % 100==0:\n",
    "                print('Epoch {0} Train Cost , Classification : {1}  , {2} Test Cost , Classification : {3}  , {4}'.format(i,\n",
    "                                                                                                                          c_t[i],\n",
    "                                                                                                                         cl_t[i],\n",
    "                                                                                                                         c_v[i],\n",
    "                                                                                                                         cl_v[i]))\n",
    "        self.W2=W2\n",
    "        self.W1=W1\n",
    "        self.b2=b2\n",
    "        self.b1=b1\n",
    "        if fig==True:\n",
    "            plt.plot(c_t,label='Train Cost')\n",
    "            plt.plot(c_v,label='Test Cost')\n",
    "            plt.show()\n",
    "            plt.plot(cl_t,label='Train Class')\n",
    "            plt.plot(cl_v,label='Test Class')\n",
    "            plt.show()\n",
    "    def predict(self,X):\n",
    "        _,y_p=forward(X,self.W1,self.b1,self.W2,self.b2)\n",
    "        return np.round(y_p)\n",
    "    def score(self,y,y_p):\n",
    "        return np.mean(y==y_p)\n"
   ]
  },
  {
   "cell_type": "code",
   "execution_count": 67,
   "metadata": {},
   "outputs": [],
   "source": [
    "ann=ANN(0.0000001,10000,5)"
   ]
  },
  {
   "cell_type": "code",
   "execution_count": 68,
   "metadata": {
    "scrolled": true
   },
   "outputs": [
    {
     "name": "stdout",
     "output_type": "stream",
     "text": [
      "Epoch 0 Train Cost , Classification : 129335.11795332075  , 0.5075066647958468 Test Cost , Classification : 15474.323145281198  , 0.4659090909090909\n",
      "Epoch 100 Train Cost , Classification : 5174.320714924064  , 0.5347270941490108 Test Cost , Classification : 572.5982321581505  , 0.5454545454545454\n",
      "Epoch 200 Train Cost , Classification : 5058.814987576776  , 0.5463729479444367 Test Cost , Classification : 564.6098397112146  , 0.5265151515151515\n",
      "Epoch 300 Train Cost , Classification : 5022.02548591529  , 0.5414620457415462 Test Cost , Classification : 560.8260730609929  , 0.523989898989899\n",
      "Epoch 400 Train Cost , Classification : 4999.095790429969  , 0.5427248491651466 Test Cost , Classification : 558.3084392419125  , 0.5265151515151515\n",
      "Epoch 500 Train Cost , Classification : 4981.6475586089  , 0.545811701978392 Test Cost , Classification : 556.264113395386  , 0.5353535353535354\n",
      "Epoch 600 Train Cost , Classification : 4968.850798017544  , 0.5434264066227024 Test Cost , Classification : 554.8417922880843  , 0.5328282828282829\n",
      "Epoch 700 Train Cost , Classification : 4958.599215759158  , 0.543005472148169 Test Cost , Classification : 553.767034201175  , 0.5328282828282829\n",
      "Epoch 800 Train Cost , Classification : 4951.217799552564  , 0.5455310789953697 Test Cost , Classification : 552.9571695841207  , 0.5366161616161617\n",
      "Epoch 900 Train Cost , Classification : 4945.601238766292  , 0.5462326364529255 Test Cost , Classification : 552.340088119869  , 0.5378787878787878\n",
      "Epoch 1000 Train Cost , Classification : 4941.241538087075  , 0.545811701978392 Test Cost , Classification : 551.861890152384  , 0.5378787878787878\n",
      "Epoch 1100 Train Cost , Classification : 4937.626891840491  , 0.545811701978392 Test Cost , Classification : 551.4437815685642  , 0.5366161616161617\n",
      "Epoch 1200 Train Cost , Classification : 4934.239776959656  , 0.5487582433001262 Test Cost , Classification : 551.0410679095786  , 0.5416666666666666\n",
      "Epoch 1300 Train Cost , Classification : 4931.009127176842  , 0.5469341939104813 Test Cost , Classification : 550.6534513314624  , 0.5416666666666666\n",
      "Epoch 1400 Train Cost , Classification : 4928.112271362417  , 0.5467938824189701 Test Cost , Classification : 550.3046248451487  , 0.5416666666666666\n",
      "Epoch 1500 Train Cost , Classification : 4925.561829544056  , 0.5456713904868808 Test Cost , Classification : 549.9907544463172  , 0.5416666666666666\n",
      "Epoch 1600 Train Cost , Classification : 4923.286227017356  , 0.5488985547916374 Test Cost , Classification : 549.7012408107121  , 0.5467171717171717\n",
      "Epoch 1700 Train Cost , Classification : 4921.19397805044  , 0.5486179318086152 Test Cost , Classification : 549.4330962995163  , 0.5454545454545454\n",
      "Epoch 1800 Train Cost , Classification : 4919.049557182121  , 0.5498807352322155 Test Cost , Classification : 549.1745645962606  , 0.5505050505050505\n",
      "Epoch 1900 Train Cost , Classification : 4917.063091161881  , 0.5498807352322155 Test Cost , Classification : 548.9361269337417  , 0.5517676767676768\n",
      "Epoch 2000 Train Cost , Classification : 4915.266053089138  , 0.5498807352322155 Test Cost , Classification : 548.7283315809556  , 0.5517676767676768\n",
      "Epoch 2100 Train Cost , Classification : 4913.646946797941  , 0.5497404237407043 Test Cost , Classification : 548.5335182851661  , 0.5517676767676768\n",
      "Epoch 2200 Train Cost , Classification : 4912.119841063761  , 0.5494598007576821 Test Cost , Classification : 548.3464041718496  , 0.5517676767676768\n",
      "Epoch 2300 Train Cost , Classification : 4910.688024621656  , 0.5493194892661709 Test Cost , Classification : 548.1670502341501  , 0.5517676767676768\n",
      "Epoch 2400 Train Cost , Classification : 4909.348463538874  , 0.5504419811982602 Test Cost , Classification : 547.9939037786893  , 0.5517676767676768\n",
      "Epoch 2500 Train Cost , Classification : 4908.088139918727  , 0.5505822926897713 Test Cost , Classification : 547.8267308808902  , 0.5517676767676768\n",
      "Epoch 2600 Train Cost , Classification : 4906.881762793804  , 0.550301669706749 Test Cost , Classification : 547.6655192086725  , 0.5517676767676768\n",
      "Epoch 2700 Train Cost , Classification : 4905.7254571467065  , 0.5501613582152378 Test Cost , Classification : 547.5095884475569  , 0.5517676767676768\n",
      "Epoch 2800 Train Cost , Classification : 4904.617613969753  , 0.5504419811982602 Test Cost , Classification : 547.3588653245931  , 0.5517676767676768\n",
      "Epoch 2900 Train Cost , Classification : 4903.550417852835  , 0.5501613582152378 Test Cost , Classification : 547.2123330173164  , 0.5517676767676768\n",
      "Epoch 3000 Train Cost , Classification : 4902.532438631054  , 0.5512838501473271 Test Cost , Classification : 547.06968869916  , 0.553030303030303\n",
      "Epoch 3100 Train Cost , Classification : 4901.547172808958  , 0.5511435386558159 Test Cost , Classification : 546.9301584911641  , 0.553030303030303\n",
      "Epoch 3200 Train Cost , Classification : 4900.603786675825  , 0.5505822926897713 Test Cost , Classification : 546.7944212073819  , 0.5517676767676768\n",
      "Epoch 3300 Train Cost , Classification : 4899.690020074915  , 0.5515644731303494 Test Cost , Classification : 546.6621985305626  , 0.5542929292929293\n",
      "Epoch 3400 Train Cost , Classification : 4898.810397035973  , 0.5514241616388382 Test Cost , Classification : 546.5331756334141  , 0.5542929292929293\n",
      "Epoch 3500 Train Cost , Classification : 4897.95962849854  , 0.5512838501473271 Test Cost , Classification : 546.407697776803  , 0.5542929292929293\n",
      "Epoch 3600 Train Cost , Classification : 4897.133745646831  , 0.5512838501473271 Test Cost , Classification : 546.2856288742809  , 0.553030303030303\n",
      "Epoch 3700 Train Cost , Classification : 4896.331417025103  , 0.5514241616388382 Test Cost , Classification : 546.1668198250879  , 0.553030303030303\n",
      "Epoch 3800 Train Cost , Classification : 4895.5531330062795  , 0.5528272765539498 Test Cost , Classification : 546.0511818688207  , 0.5542929292929293\n",
      "Epoch 3900 Train Cost , Classification : 4894.801137934073  , 0.5528272765539498 Test Cost , Classification : 545.9364206775348  , 0.5542929292929293\n",
      "Epoch 4000 Train Cost , Classification : 4894.07467114978  , 0.5517047846218606 Test Cost , Classification : 545.7665343669541  , 0.553030303030303\n",
      "Epoch 4100 Train Cost , Classification : 4905.481998884543  , 0.5368317665216781 Test Cost , Classification : 544.1529610715186  , 0.553030303030303\n",
      "Epoch 4200 Train Cost , Classification : 5366.842044267091  , 0.5115756980496703 Test Cost , Classification : 579.4104327221237  , 0.5454545454545454\n",
      "Epoch 4300 Train Cost , Classification : 7203.141716551099  , 0.4927739581871755 Test Cost , Classification : 757.6003322768158  , 0.5366161616161617\n",
      "Epoch 4400 Train Cost , Classification : 14479.075054331945  , 0.49179177774659744 Test Cost , Classification : 1504.1969720084262  , 0.5340909090909091\n",
      "Epoch 4500 Train Cost , Classification : 38209.54910592259  , 0.49235302371264206 Test Cost , Classification : 3964.305407932211  , 0.5328282828282829\n"
     ]
    },
    {
     "name": "stderr",
     "output_type": "stream",
     "text": [
      "C:\\Users\\ytnvj\\Anaconda3\\lib\\site-packages\\ipykernel_launcher.py:14: RuntimeWarning: divide by zero encountered in log\n",
      "  \n",
      "C:\\Users\\ytnvj\\Anaconda3\\lib\\site-packages\\ipykernel_launcher.py:14: RuntimeWarning: invalid value encountered in multiply\n",
      "  \n"
     ]
    },
    {
     "name": "stdout",
     "output_type": "stream",
     "text": [
      "Epoch 4600 Train Cost , Classification : nan  , 0.49235302371264206 Test Cost , Classification : nan  , 0.5328282828282829\n",
      "Epoch 4700 Train Cost , Classification : nan  , 0.49235302371264206 Test Cost , Classification : nan  , 0.5328282828282829\n",
      "Epoch 4800 Train Cost , Classification : nan  , 0.49235302371264206 Test Cost , Classification : nan  , 0.5328282828282829\n",
      "Epoch 4900 Train Cost , Classification : nan  , 0.49235302371264206 Test Cost , Classification : nan  , 0.5328282828282829\n",
      "Epoch 5000 Train Cost , Classification : 1322456.719478807  , 0.5086291567279361 Test Cost , Classification : 158378.70827452024  , 0.4671717171717172\n",
      "Epoch 5100 Train Cost , Classification : nan  , 0.49235302371264206 Test Cost , Classification : nan  , 0.5328282828282829\n",
      "Epoch 5200 Train Cost , Classification : nan  , 0.491370843272064 Test Cost , Classification : nan  , 0.5328282828282829\n",
      "Epoch 5300 Train Cost , Classification : nan  , 0.491370843272064 Test Cost , Classification : nan  , 0.5328282828282829\n",
      "Epoch 5400 Train Cost , Classification : nan  , 0.491370843272064 Test Cost , Classification : nan  , 0.5328282828282829\n",
      "Epoch 5500 Train Cost , Classification : nan  , 0.491370843272064 Test Cost , Classification : nan  , 0.5328282828282829\n",
      "Epoch 5600 Train Cost , Classification : nan  , 0.5086291567279361 Test Cost , Classification : nan  , 0.4671717171717172\n",
      "Epoch 5700 Train Cost , Classification : nan  , 0.5086291567279361 Test Cost , Classification : nan  , 0.4671717171717172\n",
      "Epoch 5800 Train Cost , Classification : nan  , 0.5086291567279361 Test Cost , Classification : nan  , 0.4671717171717172\n",
      "Epoch 5900 Train Cost , Classification : nan  , 0.5086291567279361 Test Cost , Classification : nan  , 0.4671717171717172\n",
      "Epoch 6000 Train Cost , Classification : nan  , 0.5086291567279361 Test Cost , Classification : nan  , 0.4671717171717172\n",
      "Epoch 6100 Train Cost , Classification : nan  , 0.5086291567279361 Test Cost , Classification : nan  , 0.4671717171717172\n",
      "Epoch 6200 Train Cost , Classification : nan  , 0.5086291567279361 Test Cost , Classification : nan  , 0.4671717171717172\n",
      "Epoch 6300 Train Cost , Classification : nan  , 0.491370843272064 Test Cost , Classification : nan  , 0.5328282828282829\n",
      "Epoch 6400 Train Cost , Classification : nan  , 0.491370843272064 Test Cost , Classification : nan  , 0.5328282828282829\n",
      "Epoch 6500 Train Cost , Classification : nan  , 0.491370843272064 Test Cost , Classification : nan  , 0.5328282828282829\n",
      "Epoch 6600 Train Cost , Classification : nan  , 0.491370843272064 Test Cost , Classification : nan  , 0.5328282828282829\n"
     ]
    },
    {
     "ename": "KeyboardInterrupt",
     "evalue": "",
     "output_type": "error",
     "traceback": [
      "\u001b[1;31m---------------------------------------------------------------------------\u001b[0m",
      "\u001b[1;31mKeyboardInterrupt\u001b[0m                         Traceback (most recent call last)",
      "\u001b[1;32m<ipython-input-68-23c65ccff189>\u001b[0m in \u001b[0;36m<module>\u001b[1;34m()\u001b[0m\n\u001b[1;32m----> 1\u001b[1;33m \u001b[0mann\u001b[0m\u001b[1;33m.\u001b[0m\u001b[0mfit\u001b[0m\u001b[1;33m(\u001b[0m\u001b[0mX_train\u001b[0m\u001b[1;33m,\u001b[0m\u001b[0my_train\u001b[0m\u001b[1;33m,\u001b[0m\u001b[0mfig\u001b[0m\u001b[1;33m=\u001b[0m\u001b[1;32mTrue\u001b[0m\u001b[1;33m)\u001b[0m\u001b[1;33m\u001b[0m\u001b[0m\n\u001b[0m",
      "\u001b[1;32m<ipython-input-66-da1d4b20f248>\u001b[0m in \u001b[0;36mfit\u001b[1;34m(self, X, y, fig)\u001b[0m\n\u001b[0;32m     36\u001b[0m             \u001b[0mb2\u001b[0m\u001b[1;33m=\u001b[0m\u001b[0mb2\u001b[0m\u001b[1;33m-\u001b[0m\u001b[0mself\u001b[0m\u001b[1;33m.\u001b[0m\u001b[0mlr\u001b[0m\u001b[1;33m*\u001b[0m\u001b[1;33m(\u001b[0m\u001b[0mdy\u001b[0m\u001b[1;33m)\u001b[0m\u001b[1;33m.\u001b[0m\u001b[0msum\u001b[0m\u001b[1;33m(\u001b[0m\u001b[0maxis\u001b[0m\u001b[1;33m=\u001b[0m\u001b[1;36m0\u001b[0m\u001b[1;33m)\u001b[0m\u001b[1;33m\u001b[0m\u001b[0m\n\u001b[0;32m     37\u001b[0m             \u001b[0mdz\u001b[0m\u001b[1;33m=\u001b[0m\u001b[0mnp\u001b[0m\u001b[1;33m.\u001b[0m\u001b[0mouter\u001b[0m\u001b[1;33m(\u001b[0m\u001b[0mdy\u001b[0m\u001b[1;33m,\u001b[0m\u001b[0mW2\u001b[0m\u001b[1;33m)\u001b[0m\u001b[1;33m*\u001b[0m\u001b[1;33m(\u001b[0m\u001b[0mz\u001b[0m\u001b[1;33m>\u001b[0m\u001b[1;36m0\u001b[0m\u001b[1;33m)\u001b[0m\u001b[1;33m\u001b[0m\u001b[0m\n\u001b[1;32m---> 38\u001b[1;33m             \u001b[0mW1\u001b[0m\u001b[1;33m=\u001b[0m\u001b[0mW1\u001b[0m\u001b[1;33m-\u001b[0m\u001b[0mself\u001b[0m\u001b[1;33m.\u001b[0m\u001b[0mlr\u001b[0m\u001b[1;33m*\u001b[0m\u001b[0mX_t\u001b[0m\u001b[1;33m.\u001b[0m\u001b[0mT\u001b[0m\u001b[1;33m.\u001b[0m\u001b[0mdot\u001b[0m\u001b[1;33m(\u001b[0m\u001b[0mdz\u001b[0m\u001b[1;33m)\u001b[0m\u001b[1;33m\u001b[0m\u001b[0m\n\u001b[0m\u001b[0;32m     39\u001b[0m             \u001b[0mb1\u001b[0m\u001b[1;33m=\u001b[0m\u001b[0mb1\u001b[0m\u001b[1;33m-\u001b[0m\u001b[0mself\u001b[0m\u001b[1;33m.\u001b[0m\u001b[0mlr\u001b[0m\u001b[1;33m*\u001b[0m\u001b[1;33m(\u001b[0m\u001b[0mdz\u001b[0m\u001b[1;33m)\u001b[0m\u001b[1;33m.\u001b[0m\u001b[0msum\u001b[0m\u001b[1;33m(\u001b[0m\u001b[0maxis\u001b[0m\u001b[1;33m=\u001b[0m\u001b[1;36m0\u001b[0m\u001b[1;33m)\u001b[0m\u001b[1;33m\u001b[0m\u001b[0m\n\u001b[0;32m     40\u001b[0m             \u001b[0mc_t\u001b[0m\u001b[1;33m.\u001b[0m\u001b[0mappend\u001b[0m\u001b[1;33m(\u001b[0m\u001b[0mself\u001b[0m\u001b[1;33m.\u001b[0m\u001b[0mcost\u001b[0m\u001b[1;33m(\u001b[0m\u001b[0my_t\u001b[0m\u001b[1;33m,\u001b[0m\u001b[0my_p_t\u001b[0m\u001b[1;33m)\u001b[0m\u001b[1;33m)\u001b[0m\u001b[1;33m\u001b[0m\u001b[0m\n",
      "\u001b[1;31mKeyboardInterrupt\u001b[0m: "
     ]
    }
   ],
   "source": [
    "ann.fit(X_train,y_train,fig=True)"
   ]
  },
  {
   "cell_type": "code",
   "execution_count": 69,
   "metadata": {},
   "outputs": [
    {
     "data": {
      "text/plain": [
       "3    8989\n",
       "6    6198\n",
       "4    6077\n",
       "2    5121\n",
       "0    4953\n",
       "5    4002\n",
       "1     547\n",
       "Name: emotion, dtype: int64"
      ]
     },
     "execution_count": 69,
     "metadata": {},
     "output_type": "execute_result"
    }
   ],
   "source": [
    "df.emotion.value_counts()"
   ]
  },
  {
   "cell_type": "code",
   "execution_count": null,
   "metadata": {},
   "outputs": [],
   "source": []
  }
 ],
 "metadata": {
  "kernelspec": {
   "display_name": "Python 3",
   "language": "python",
   "name": "python3"
  },
  "language_info": {
   "codemirror_mode": {
    "name": "ipython",
    "version": 3
   },
   "file_extension": ".py",
   "mimetype": "text/x-python",
   "name": "python",
   "nbconvert_exporter": "python",
   "pygments_lexer": "ipython3",
   "version": "3.6.5"
  }
 },
 "nbformat": 4,
 "nbformat_minor": 2
}
