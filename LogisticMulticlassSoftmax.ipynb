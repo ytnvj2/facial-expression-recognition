{
 "cells": [
  {
   "cell_type": "code",
   "execution_count": 1,
   "metadata": {},
   "outputs": [],
   "source": [
    "import pandas as pd\n",
    "import numpy as np\n",
    "import os\n",
    "import matplotlib.pyplot as plt\n",
    "raw_data_path=os.path.join('data','raw')\n",
    "df=pd.read_csv(os.path.join(raw_data_path,'fer2013.csv'))\n",
    "X=[]\n",
    "for i in range(len(df)):\n",
    "    X.append(df.loc[i,'pixels'].split(' '))\n",
    "X=np.array(X,np.float32)/255.\n",
    "y=df.emotion.values\n",
    "X_train=X[np.where(df.Usage=='Training')]\n",
    "y_train=y[np.where((df.Usage=='Training'))]\n",
    "X_test=X[np.where((df.Usage!='Training'))]\n",
    "y_test=y[np.where((df.Usage!='Training'))]\n",
    "def balance_classes(X,y):\n",
    "    X1=X[np.where(y!=1)]\n",
    "    X2=X[np.where(y==1)]\n",
    "    X2=np.repeat(X2,9,axis=0)\n",
    "    X=np.concatenate((X1,X2),axis=0)\n",
    "    y1=y[np.where(y!=1)]\n",
    "    y2=y[np.where(y==1)]\n",
    "    y2=np.repeat(y2,9,axis=0)\n",
    "    y=np.concatenate((y1,y2),axis=0)\n",
    "    i=[i for i in range(len(y))]\n",
    "    np.random.shuffle(i)\n",
    "    return X[i],y[i]\n",
    "X_train,y_train=balance_classes(X_train,y_train)"
   ]
  },
  {
   "cell_type": "code",
   "execution_count": 2,
   "metadata": {},
   "outputs": [],
   "source": [
    "def one_hot_encoder(X):\n",
    "    N=len(X)\n",
    "    K=len(set(X))\n",
    "    Z=np.zeros((N,K))\n",
    "    for i in range(N):\n",
    "        c=X[i]\n",
    "        Z[i,c]=1\n",
    "    return Z\n",
    "y_train=one_hot_encoder(y_train)"
   ]
  },
  {
   "cell_type": "code",
   "execution_count": 5,
   "metadata": {},
   "outputs": [
    {
     "data": {
      "text/plain": [
       "array([3, 6, 0, ..., 3, 6, 2], dtype=int64)"
      ]
     },
     "execution_count": 5,
     "metadata": {},
     "output_type": "execute_result"
    }
   ],
   "source": [
    "y_train.argmax(axis=1)"
   ]
  },
  {
   "cell_type": "code",
   "execution_count": 18,
   "metadata": {},
   "outputs": [],
   "source": [
    "class LogiticSoftmax(object):\n",
    "    def __init__(self,lr,epoch):\n",
    "        self.lr=lr\n",
    "        self.epoch=epoch\n",
    "    def forward(self,X,W,b):\n",
    "        return self.softmax(X.dot(W)+b)\n",
    "    def softmax(self,a):\n",
    "        return np.exp(a)/(np.exp(a).sum(axis=1,keepdims=True))\n",
    "    def cost(self,y,y_p):\n",
    "        return -(y*np.log(y_p)).sum()\n",
    "    def fit(self,X,y):\n",
    "        N,D=X.shape\n",
    "        K=y.shape[1]\n",
    "        W=np.random.randn(D,K)\n",
    "        b=np.random.randn(K)\n",
    "        tr_i=np.random.choice(N,int(N*0.9),replace=False)\n",
    "        t_i=[i for i in range(N) if i not in tr_i]\n",
    "        X_t=X[tr_i]\n",
    "        y_t=y[tr_i]\n",
    "        X_v=X[t_i]\n",
    "        y_v=y[t_i]\n",
    "        c_t=[]\n",
    "        c_v=[]\n",
    "        cl_t=[]\n",
    "        cl_v=[]\n",
    "        for i in range(self.epoch):\n",
    "            y_p_t=self.forward(X_t,W,b)\n",
    "            y_p_v=self.forward(X_v,W,b)\n",
    "            dy=y_p_t-y_t\n",
    "            W=W-self.lr*(X_t.T.dot(dy))\n",
    "            b=b-self.lr*(dy).sum(axis=0)\n",
    "            c_t.append(self.cost(y_t,y_p_t))\n",
    "            c_v.append(self.cost(y_v,y_p_v))\n",
    "            cl_t.append(self.score(y_t.argmax(axis=1),y_p_t.argmax(axis=1)))\n",
    "            cl_v.append(self.score(y_v.argmax(axis=1),y_p_v.argmax(axis=1)))\n",
    "            if i % 100==0:\n",
    "                print('Epoch {0} Train Cost: {1} , Classification: {2} , Test Cost {3} , Classification : {4}'.format(i,c_t[i],\n",
    "                                                                                                                      cl_t[i],\n",
    "                                                                                                                      c_v[i],\n",
    "                                                                                                                      cl_v[i]))\n",
    "        self.W=W\n",
    "        self.b=b\n",
    "        if fig==True:\n",
    "            plt.plot(c_t,label='Train Cost')\n",
    "            plt.plot(c_v,label='Test Cost')\n",
    "            plt.show()\n",
    "            plt.plot(cl_t,label='Train Class')\n",
    "            plt.plot(cl_v,label='Test Class')\n",
    "            plt.show()\n",
    "    def predict(self,X):\n",
    "        return self.forward(X,self.W,self.b).argmax(axis=1)\n",
    "    def score(self,y,y_p):\n",
    "        return np.mean(y==y_p)"
   ]
  },
  {
   "cell_type": "code",
   "execution_count": 13,
   "metadata": {},
   "outputs": [],
   "source": [
    "logit=LogiticSoftmax(0.000001,10000)"
   ]
  },
  {
   "cell_type": "code",
   "execution_count": 14,
   "metadata": {
    "scrolled": true
   },
   "outputs": [
    {
     "name": "stdout",
     "output_type": "stream",
     "text": [
      "Epoch 0 Train Cost: 662241.690763412 , Classification: 0.11229595886392656 , Test Cost 71707.22094875021 , Classification : 0.10590062111801242\n",
      "Epoch 100 Train Cost: 310007.1012596489 , Classification: 0.14490803050695378 , Test Cost 34382.106885665984 , Classification : 0.14440993788819875\n",
      "Epoch 200 Train Cost: 272987.2622191332 , Classification: 0.15156848535045037 , Test Cost 30283.840990369066 , Classification : 0.14472049689440994\n",
      "Epoch 300 Train Cost: 250489.72777024482 , Classification: 0.15729716671843186 , Test Cost 27811.962322527703 , Classification : 0.15031055900621118\n",
      "Epoch 400 Train Cost: 234159.83675646823 , Classification: 0.16509645580978016 , Test Cost 26012.81474161896 , Classification : 0.15527950310559005\n",
      "Epoch 500 Train Cost: 221535.81853356306 , Classification: 0.1728612347724057 , Test Cost 24618.583219639215 , Classification : 0.16149068322981366\n",
      "Epoch 600 Train Cost: 211405.52016300007 , Classification: 0.17821030472443664 , Test Cost 23503.436409048692 , Classification : 0.16645962732919253\n",
      "Epoch 700 Train Cost: 203027.63861927803 , Classification: 0.18269662145839805 , Test Cost 22587.649537429523 , Classification : 0.16925465838509315\n",
      "Epoch 800 Train Cost: 195946.03797172947 , Classification: 0.18707940780619112 , Test Cost 21819.24335628518 , Classification : 0.17577639751552795\n",
      "Epoch 900 Train Cost: 189853.28382885194 , Classification: 0.1902198295199641 , Test Cost 21163.681963601084 , Classification : 0.18322981366459629\n",
      "Epoch 1000 Train Cost: 184524.49702162732 , Classification: 0.19325672084756876 , Test Cost 20595.66837891085 , Classification : 0.18540372670807453\n",
      "Epoch 1100 Train Cost: 179799.89102192622 , Classification: 0.19584498050177726 , Test Cost 20096.98079055647 , Classification : 0.18819875776397516\n",
      "Epoch 1200 Train Cost: 175566.17829560247 , Classification: 0.20036580736446147 , Test Cost 19654.18309219434 , Classification : 0.19316770186335402\n",
      "Epoch 1300 Train Cost: 171739.55230354 , Classification: 0.20247092521655105 , Test Cost 19257.071919974536 , Classification : 0.19440993788819877\n",
      "Epoch 1400 Train Cost: 168255.03256903586 , Classification: 0.20509369499948235 , Test Cost 18897.783054287742 , Classification : 0.1953416149068323\n",
      "Epoch 1500 Train Cost: 165061.02559605835 , Classification: 0.20851019774303758 , Test Cost 18570.14878629592 , Classification : 0.1968944099378882\n",
      "Epoch 1600 Train Cost: 162116.06609941306 , Classification: 0.2104082548227905 , Test Cost 18269.279264921825 , Classification : 0.1968944099378882\n",
      "Epoch 1700 Train Cost: 159386.4533697884 , Classification: 0.2126169030610484 , Test Cost 17991.272570116784 , Classification : 0.20124223602484473\n",
      "Epoch 1800 Train Cost: 156844.47626658977 , Classification: 0.21396279808123683 , Test Cost 17732.990283571693 , Classification : 0.20186335403726707\n",
      "Epoch 1900 Train Cost: 154467.16729609083 , Classification: 0.21513614245781137 , Test Cost 17491.88608058056 , Classification : 0.2031055900621118\n",
      "Epoch 2000 Train Cost: 152235.42764642334 , Classification: 0.21713772992373262 , Test Cost 17265.876975510695 , Classification : 0.2046583850931677\n",
      "Epoch 2100 Train Cost: 150133.31443675113 , Classification: 0.2193808882907133 , Test Cost 17053.241947815914 , Classification : 0.2059006211180124\n",
      "Epoch 2200 Train Cost: 148147.41450266566 , Classification: 0.22024364150878284 , Test Cost 16852.542015258918 , Classification : 0.20714285714285716\n",
      "Epoch 2300 Train Cost: 146266.31945384623 , Classification: 0.22214169858853575 , Test Cost 16662.55990654562 , Classification : 0.20993788819875778\n",
      "Epoch 2400 Train Cost: 144480.2140198314 , Classification: 0.2230734720640508 , Test Cost 16482.255442186935 , Classification : 0.20993788819875778\n",
      "Epoch 2500 Train Cost: 142780.56924037443 , Classification: 0.22545467094592264 , Test Cost 16310.732198717928 , Classification : 0.21211180124223603\n",
      "Epoch 2600 Train Cost: 141159.91896020685 , Classification: 0.22731821789695275 , Test Cost 16147.21214170771 , Classification : 0.2127329192546584\n",
      "Epoch 2700 Train Cost: 139611.69430800917 , Classification: 0.2284570521448045 , Test Cost 15991.015911849618 , Classification : 0.21397515527950312\n",
      "Epoch 2800 Train Cost: 138130.09476679337 , Classification: 0.22994098767988405 , Test Cost 15841.547054419176 , Classification : 0.21397515527950312\n",
      "Epoch 2900 Train Cost: 136709.9813386454 , Classification: 0.23145943334368638 , Test Cost 15698.278954323476 , Classification : 0.21614906832298136\n",
      "Epoch 3000 Train Cost: 135346.78437017222 , Classification: 0.2326672878489837 , Test Cost 15560.743763922617 , Classification : 0.21770186335403727\n",
      "Epoch 3100 Train Cost: 134036.42382746108 , Classification: 0.23408220312661765 , Test Cost 15428.523124860985 , Classification : 0.21739130434782608\n",
      "Epoch 3200 Train Cost: 132775.2419948638 , Classification: 0.2345308348000138 , Test Cost 15301.240755958675 , Classification : 0.21739130434782608\n",
      "Epoch 3300 Train Cost: 131559.94805952362 , Classification: 0.2361183007212617 , Test Cost 15178.556874270507 , Classification : 0.2204968944099379\n",
      "Epoch 3400 Train Cost: 130387.57248333991 , Classification: 0.23722262484039067 , Test Cost 15060.164088992167 , Classification : 0.2217391304347826\n",
      "Epoch 3500 Train Cost: 129255.42833708778 , Classification: 0.23843047934568795 , Test Cost 14945.784185852202 , Classification : 0.2236024844720497\n",
      "Epoch 3600 Train Cost: 128161.077452398 , Classification: 0.23929323256375745 , Test Cost 14835.165283588321 , Classification : 0.2248447204968944\n",
      "Epoch 3700 Train Cost: 127102.30046316094 , Classification: 0.24122579977223316 , Test Cost 14728.0790941811 , Classification : 0.22732919254658385\n",
      "Epoch 3800 Train Cost: 126077.07057064293 , Classification: 0.24215757324774823 , Test Cost 14624.318252286374 , Classification : 0.22763975155279503\n",
      "Epoch 3900 Train Cost: 125083.53097515524 , Classification: 0.24384856955516443 , Test Cost 14523.693792049678 , Classification : 0.23012422360248447\n",
      "Epoch 4000 Train Cost: 124119.97570903983 , Classification: 0.24453877212962005 , Test Cost 14426.032857430608 , Classification : 0.23198757763975156\n",
      "Epoch 4100 Train Cost: 123184.83340761132 , Classification: 0.24536701521896676 , Test Cost 14331.176694282656 , Classification : 0.23167701863354037\n",
      "Epoch 4200 Train Cost: 122276.65348251283 , Classification: 0.24616074817959072 , Test Cost 14238.978931958416 , Classification : 0.23198757763975156\n",
      "Epoch 4300 Train Cost: 121394.09419716558 , Classification: 0.24657486972426407 , Test Cost 14149.30413547784 , Classification : 0.23354037267080746\n",
      "Epoch 4400 Train Cost: 120535.9122356667 , Classification: 0.24702350139766022 , Test Cost 14062.026596501255 , Classification : 0.23354037267080746\n",
      "Epoch 4500 Train Cost: 119700.95346213967 , Classification: 0.2475411533285019 , Test Cost 13977.0293276035 , Classification : 0.23354037267080746\n",
      "Epoch 4600 Train Cost: 118888.14465946832 , Classification: 0.24905959899230423 , Test Cost 13894.203225156642 , Classification : 0.23633540372670808\n",
      "Epoch 4700 Train Cost: 118096.48610225118 , Classification: 0.25006039272526487 , Test Cost 13813.44636883895 , Classification : 0.234472049689441\n",
      "Epoch 4800 Train Cost: 117325.04486000768 , Classification: 0.2506815750422749 , Test Cost 13734.663429293796 , Classification : 0.23540372670807452\n",
      "Epoch 4900 Train Cost: 116572.94875163223 , Classification: 0.25230355109224556 , Test Cost 13657.765159451643 , Classification : 0.23633540372670808\n",
      "Epoch 5000 Train Cost: 115839.38088883422 , Classification: 0.2538565068847707 , Test Cost 13582.66794933159 , Classification : 0.23695652173913043\n",
      "Epoch 5100 Train Cost: 115123.57475861818 , Classification: 0.25440866894433517 , Test Cost 13509.293428460285 , Classification : 0.23819875776397514\n",
      "Epoch 5200 Train Cost: 114424.80980324712 , Classification: 0.25440866894433517 , Test Cost 13437.56810403633 , Classification : 0.23819875776397514\n",
      "Epoch 5300 Train Cost: 113742.40746046355 , Classification: 0.2558926044794147 , Test Cost 13367.423026395103 , Classification : 0.24006211180124223\n",
      "Epoch 5400 Train Cost: 113075.72762792648 , Classification: 0.256479276667702 , Test Cost 13298.793476134011 , Classification : 0.24006211180124223\n",
      "Epoch 5500 Train Cost: 112424.16551564776 , Classification: 0.2566173171825931 , Test Cost 13231.618669489913 , Classification : 0.24037267080745342\n"
     ]
    },
    {
     "name": "stdout",
     "output_type": "stream",
     "text": [
      "Epoch 5600 Train Cost: 111787.14885026995 , Classification: 0.2571349691134348 , Test Cost 13165.841480266725 , Classification : 0.24006211180124223\n",
      "Epoch 5700 Train Cost: 111164.1353959269 , Classification: 0.2569624184698209 , Test Cost 13101.408177794308 , Classification : 0.2406832298136646\n",
      "Epoch 5800 Train Cost: 110554.61075781536 , Classification: 0.25779066155916763 , Test Cost 13038.268181045327 , Classification : 0.2422360248447205\n",
      "Epoch 5900 Train Cost: 109958.08643582255 , Classification: 0.2582738033612865 , Test Cost 12976.373829180384 , Classification : 0.24192546583850932\n",
      "Epoch 6000 Train Cost: 109374.09809631268 , Classification: 0.2590675363219105 , Test Cost 12915.680168557941 , Classification : 0.2422360248447205\n",
      "Epoch 6100 Train Cost: 108802.20403078373 , Classification: 0.25982675915381165 , Test Cost 12856.144755828287 , Classification : 0.24161490683229814\n",
      "Epoch 6200 Train Cost: 108241.98377123913 , Classification: 0.26034441108465334 , Test Cost 12797.727476327289 , Classification : 0.24285714285714285\n",
      "Epoch 6300 Train Cost: 107693.03683433859 , Classification: 0.26124167443144564 , Test Cost 12740.39037672865 , Classification : 0.24347826086956523\n",
      "Epoch 6400 Train Cost: 107154.98156984555 , Classification: 0.26186285674845566 , Test Cost 12684.097510840418 , Classification : 0.24316770186335404\n",
      "Epoch 6500 Train Cost: 106627.45409325683 , Classification: 0.261966387134624 , Test Cost 12628.814797500305 , Classification : 0.24285714285714285\n",
      "Epoch 6600 Train Cost: 106110.10728721005 , Classification: 0.26276012009524796 , Test Cost 12574.509889658242 , Classification : 0.24285714285714285\n",
      "Epoch 6700 Train Cost: 105602.60986071386 , Classification: 0.2628981606101391 , Test Cost 12521.152053863698 , Classification : 0.2422360248447205\n",
      "Epoch 6800 Train Cost: 105104.64545902293 , Classification: 0.2635538530558719 , Test Cost 12468.71205946149 , Classification : 0.24285714285714285\n",
      "Epoch 6900 Train Cost: 104615.9118198622 , Classification: 0.26445111640266417 , Test Cost 12417.162076837209 , Classification : 0.24285714285714285\n",
      "Epoch 7000 Train Cost: 104136.11997369093 , Classification: 0.264796217689892 , Test Cost 12366.475584056392 , Classification : 0.24440993788819876\n",
      "Epoch 7100 Train Cost: 103664.99348689383 , Classification: 0.2651413189771198 , Test Cost 12316.627281232797 , Classification : 0.24378881987577639\n",
      "Epoch 7200 Train Cost: 103202.26774736813 , Classification: 0.26521033923456533 , Test Cost 12267.593011957935 , Classification : 0.24409937888198757\n",
      "Epoch 7300 Train Cost: 102747.6892921251 , Classification: 0.26586603168029815 , Test Cost 12219.349691137428 , Classification : 0.24503105590062113\n",
      "Epoch 7400 Train Cost: 102301.01517640648 , Classification: 0.2666942747696449 , Test Cost 12171.875238611916 , Classification : 0.2453416149068323\n",
      "Epoch 7500 Train Cost: 101862.01238355925 , Classification: 0.26710839631431826 , Test Cost 12125.148517988484 , Classification : 0.246583850931677\n",
      "Epoch 7600 Train Cost: 101430.45727460693 , Classification: 0.26766055837388275 , Test Cost 12079.149280166686 , Classification : 0.2468944099378882\n",
      "Epoch 7700 Train Cost: 101006.13507615696 , Classification: 0.26883390275045727 , Test Cost 12033.858111105426 , Classification : 0.246583850931677\n",
      "Epoch 7800 Train Cost: 100588.83940502534 , Classification: 0.2691444939089623 , Test Cost 11989.256383437149 , Classification : 0.24720496894409938\n",
      "Epoch 7900 Train Cost: 100178.37182774289 , Classification: 0.2701107775132001 , Test Cost 11945.326211591073 , Classification : 0.2481366459627329\n",
      "Epoch 8000 Train Cost: 99774.54145294424 , Classification: 0.2717327535631708 , Test Cost 11902.05041013431 , Classification : 0.2484472049689441\n",
      "Epoch 8100 Train Cost: 99377.1645545179 , Classification: 0.27214687510784413 , Test Cost 11859.412455078686 , Classification : 0.2484472049689441\n",
      "Epoch 8200 Train Cost: 98986.06422331609 , Classification: 0.2725955067812403 , Test Cost 11817.396447931624 , Classification : 0.2484472049689441\n",
      "Epoch 8300 Train Cost: 98601.07004517972 , Classification: 0.27283707768229976 , Test Cost 11775.987082292544 , Classification : 0.24875776397515528\n",
      "Epoch 8400 Train Cost: 98222.0178030305 , Classification: 0.27318217896952757 , Test Cost 11735.169612813255 , Classification : 0.24875776397515528\n",
      "Epoch 8500 Train Cost: 97848.74920080832 , Classification: 0.2735963005142009 , Test Cost 11694.929826353087 , Classification : 0.24906832298136647\n",
      "Epoch 8600 Train Cost: 97481.11160709822 , Classification: 0.2743210132173793 , Test Cost 11655.254015168395 , Classification : 0.24906832298136647\n",
      "Epoch 8700 Train Cost: 97118.95781638147 , Classification: 0.27473513476205264 , Test Cost 11616.128951982912 , Classification : 0.2496894409937888\n",
      "Epoch 8800 Train Cost: 96762.14582596837 , Classification: 0.27476964489077543 , Test Cost 11577.541866791325 , Classification : 0.25093167701863356\n",
      "Epoch 8900 Train Cost: 96410.53862680944 , Classification: 0.27545984746523106 , Test Cost 11539.48042525398 , Classification : 0.25248447204968943\n",
      "Epoch 9000 Train Cost: 96064.00400654352 , Classification: 0.27632260068330056 , Test Cost 11501.932708546665 , Classification : 0.2543478260869565\n",
      "Epoch 9100 Train Cost: 95722.41436330666 , Classification: 0.2764606411981917 , Test Cost 11464.887194536106 , Classification : 0.25496894409937887\n",
      "Epoch 9200 Train Cost: 95385.64652900214 , Classification: 0.2761500500396866 , Test Cost 11428.33274015926 , Classification : 0.2546583850931677\n",
      "Epoch 9300 Train Cost: 95053.58160090113 , Classification: 0.2764261310694689 , Test Cost 11392.258564892927 , Classification : 0.2546583850931677\n",
      "Epoch 9400 Train Cost: 94726.10478061081 , Classification: 0.2769437830003106 , Test Cost 11356.654235209238 , Classification : 0.25559006211180124\n",
      "Epoch 9500 Train Cost: 94403.10521960154 , Classification: 0.27753045518859787 , Test Cost 11321.509649922165 , Classification : 0.25590062111801243\n",
      "Epoch 9600 Train Cost: 94084.47587062698 , Classification: 0.27753045518859787 , Test Cost 11286.815026339984 , Classification : 0.25590062111801243\n",
      "Epoch 9700 Train Cost: 93770.11334449712 , Classification: 0.27766849570348895 , Test Cost 11252.560887148593 , Classification : 0.2565217391304348\n",
      "Epoch 9800 Train Cost: 93459.91777177624 , Classification: 0.2774614349311523 , Test Cost 11218.738047960003 , Classification : 0.2565217391304348\n",
      "Epoch 9900 Train Cost: 93153.79266906915 , Classification: 0.27749594505987507 , Test Cost 11185.337605469544 , Classification : 0.256832298136646\n"
     ]
    },
    {
     "ename": "NameError",
     "evalue": "name 'fig' is not defined",
     "output_type": "error",
     "traceback": [
      "\u001b[1;31m---------------------------------------------------------------------------\u001b[0m",
      "\u001b[1;31mNameError\u001b[0m                                 Traceback (most recent call last)",
      "\u001b[1;32m<ipython-input-14-e13e77cc4c01>\u001b[0m in \u001b[0;36m<module>\u001b[1;34m()\u001b[0m\n\u001b[1;32m----> 1\u001b[1;33m \u001b[0mlogit\u001b[0m\u001b[1;33m.\u001b[0m\u001b[0mfit\u001b[0m\u001b[1;33m(\u001b[0m\u001b[0mX_train\u001b[0m\u001b[1;33m,\u001b[0m\u001b[0my_train\u001b[0m\u001b[1;33m)\u001b[0m\u001b[1;33m\u001b[0m\u001b[0m\n\u001b[0m",
      "\u001b[1;32m<ipython-input-12-9604340ca37a>\u001b[0m in \u001b[0;36mfit\u001b[1;34m(self, X, y)\u001b[0m\n\u001b[0;32m     41\u001b[0m         \u001b[0mself\u001b[0m\u001b[1;33m.\u001b[0m\u001b[0mW\u001b[0m\u001b[1;33m=\u001b[0m\u001b[0mW\u001b[0m\u001b[1;33m\u001b[0m\u001b[0m\n\u001b[0;32m     42\u001b[0m         \u001b[0mself\u001b[0m\u001b[1;33m.\u001b[0m\u001b[0mb\u001b[0m\u001b[1;33m=\u001b[0m\u001b[0mb\u001b[0m\u001b[1;33m\u001b[0m\u001b[0m\n\u001b[1;32m---> 43\u001b[1;33m         \u001b[1;32mif\u001b[0m \u001b[0mfig\u001b[0m\u001b[1;33m==\u001b[0m\u001b[1;32mTrue\u001b[0m\u001b[1;33m:\u001b[0m\u001b[1;33m\u001b[0m\u001b[0m\n\u001b[0m\u001b[0;32m     44\u001b[0m             \u001b[0mplt\u001b[0m\u001b[1;33m.\u001b[0m\u001b[0mplot\u001b[0m\u001b[1;33m(\u001b[0m\u001b[0mc_t\u001b[0m\u001b[1;33m,\u001b[0m\u001b[0mlabel\u001b[0m\u001b[1;33m=\u001b[0m\u001b[1;34m'Train Cost'\u001b[0m\u001b[1;33m)\u001b[0m\u001b[1;33m\u001b[0m\u001b[0m\n\u001b[0;32m     45\u001b[0m             \u001b[0mplt\u001b[0m\u001b[1;33m.\u001b[0m\u001b[0mplot\u001b[0m\u001b[1;33m(\u001b[0m\u001b[0mc_v\u001b[0m\u001b[1;33m,\u001b[0m\u001b[0mlabel\u001b[0m\u001b[1;33m=\u001b[0m\u001b[1;34m'Test Cost'\u001b[0m\u001b[1;33m)\u001b[0m\u001b[1;33m\u001b[0m\u001b[0m\n",
      "\u001b[1;31mNameError\u001b[0m: name 'fig' is not defined"
     ]
    }
   ],
   "source": [
    "logit.fit(X_train,y_train)"
   ]
  },
  {
   "cell_type": "code",
   "execution_count": 15,
   "metadata": {},
   "outputs": [
    {
     "data": {
      "text/plain": [
       "array([0, 1, 4, ..., 0, 3, 2], dtype=int64)"
      ]
     },
     "execution_count": 15,
     "metadata": {},
     "output_type": "execute_result"
    }
   ],
   "source": [
    "y_test"
   ]
  },
  {
   "cell_type": "code",
   "execution_count": 19,
   "metadata": {},
   "outputs": [
    {
     "ename": "NameError",
     "evalue": "name 'forward' is not defined",
     "output_type": "error",
     "traceback": [
      "\u001b[1;31m---------------------------------------------------------------------------\u001b[0m",
      "\u001b[1;31mNameError\u001b[0m                                 Traceback (most recent call last)",
      "\u001b[1;32m<ipython-input-19-09f69ed9059e>\u001b[0m in \u001b[0;36m<module>\u001b[1;34m()\u001b[0m\n\u001b[1;32m----> 1\u001b[1;33m \u001b[0mlogit\u001b[0m\u001b[1;33m.\u001b[0m\u001b[0mpredict\u001b[0m\u001b[1;33m(\u001b[0m\u001b[0mX_test\u001b[0m\u001b[1;33m)\u001b[0m\u001b[1;33m\u001b[0m\u001b[0m\n\u001b[0m",
      "\u001b[1;32m<ipython-input-12-9604340ca37a>\u001b[0m in \u001b[0;36mpredict\u001b[1;34m(self, X)\u001b[0m\n\u001b[0;32m     49\u001b[0m             \u001b[0mplt\u001b[0m\u001b[1;33m.\u001b[0m\u001b[0mshow\u001b[0m\u001b[1;33m(\u001b[0m\u001b[1;33m)\u001b[0m\u001b[1;33m\u001b[0m\u001b[0m\n\u001b[0;32m     50\u001b[0m     \u001b[1;32mdef\u001b[0m \u001b[0mpredict\u001b[0m\u001b[1;33m(\u001b[0m\u001b[0mself\u001b[0m\u001b[1;33m,\u001b[0m\u001b[0mX\u001b[0m\u001b[1;33m)\u001b[0m\u001b[1;33m:\u001b[0m\u001b[1;33m\u001b[0m\u001b[0m\n\u001b[1;32m---> 51\u001b[1;33m         \u001b[1;32mreturn\u001b[0m \u001b[0mforward\u001b[0m\u001b[1;33m(\u001b[0m\u001b[0mX\u001b[0m\u001b[1;33m,\u001b[0m\u001b[0mself\u001b[0m\u001b[1;33m.\u001b[0m\u001b[0mW\u001b[0m\u001b[1;33m,\u001b[0m\u001b[0mself\u001b[0m\u001b[1;33m.\u001b[0m\u001b[0mb\u001b[0m\u001b[1;33m)\u001b[0m\u001b[1;33m.\u001b[0m\u001b[0margmax\u001b[0m\u001b[1;33m(\u001b[0m\u001b[0maxis\u001b[0m\u001b[1;33m=\u001b[0m\u001b[1;36m1\u001b[0m\u001b[1;33m)\u001b[0m\u001b[1;33m\u001b[0m\u001b[0m\n\u001b[0m\u001b[0;32m     52\u001b[0m     \u001b[1;32mdef\u001b[0m \u001b[0mscore\u001b[0m\u001b[1;33m(\u001b[0m\u001b[0mself\u001b[0m\u001b[1;33m,\u001b[0m\u001b[0my\u001b[0m\u001b[1;33m,\u001b[0m\u001b[0my_p\u001b[0m\u001b[1;33m)\u001b[0m\u001b[1;33m:\u001b[0m\u001b[1;33m\u001b[0m\u001b[0m\n\u001b[0;32m     53\u001b[0m         \u001b[1;32mreturn\u001b[0m \u001b[0mnp\u001b[0m\u001b[1;33m.\u001b[0m\u001b[0mmean\u001b[0m\u001b[1;33m(\u001b[0m\u001b[0my\u001b[0m\u001b[1;33m==\u001b[0m\u001b[0my_p\u001b[0m\u001b[1;33m)\u001b[0m\u001b[1;33m\u001b[0m\u001b[0m\n",
      "\u001b[1;31mNameError\u001b[0m: name 'forward' is not defined"
     ]
    }
   ],
   "source": [
    "logit.predict(X_test)"
   ]
  },
  {
   "cell_type": "code",
   "execution_count": 22,
   "metadata": {},
   "outputs": [
    {
     "data": {
      "text/plain": [
       "(2304, 7)"
      ]
     },
     "execution_count": 22,
     "metadata": {},
     "output_type": "execute_result"
    }
   ],
   "source": [
    "logit.W.shape"
   ]
  },
  {
   "cell_type": "code",
   "execution_count": null,
   "metadata": {},
   "outputs": [],
   "source": []
  }
 ],
 "metadata": {
  "kernelspec": {
   "display_name": "Python 3",
   "language": "python",
   "name": "python3"
  },
  "language_info": {
   "codemirror_mode": {
    "name": "ipython",
    "version": 3
   },
   "file_extension": ".py",
   "mimetype": "text/x-python",
   "name": "python",
   "nbconvert_exporter": "python",
   "pygments_lexer": "ipython3",
   "version": "3.6.5"
  }
 },
 "nbformat": 4,
 "nbformat_minor": 2
}
