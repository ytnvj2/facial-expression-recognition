{
 "cells": [
  {
   "cell_type": "code",
   "execution_count": 1,
   "metadata": {},
   "outputs": [],
   "source": [
    "import pandas as pd\n",
    "import numpy as np\n",
    "import os\n",
    "import matplotlib.pyplot as plt\n",
    "raw_data_path=os.path.join('data','raw')\n",
    "df=pd.read_csv(os.path.join(raw_data_path,'fer2013.csv'))\n",
    "X=[]\n",
    "for i in range(len(df)):\n",
    "    X.append(df.loc[i,'pixels'].split(' '))\n",
    "X=np.array(X,np.float32)/255.\n",
    "y=df.emotion.values\n",
    "X_train=X[np.where(df.Usage=='Training')]\n",
    "y_train=y[np.where((df.Usage=='Training'))]\n",
    "X_test=X[np.where((df.Usage!='Training'))]\n",
    "y_test=y[np.where((df.Usage!='Training'))]\n",
    "def balance_classes(X,y):\n",
    "    X1=X[np.where(y!=1)]\n",
    "    X2=X[np.where(y==1)]\n",
    "    X2=np.repeat(X2,9,axis=0)\n",
    "    X=np.concatenate((X1,X2),axis=0)\n",
    "    y1=y[np.where(y!=1)]\n",
    "    y2=y[np.where(y==1)]\n",
    "    y2=np.repeat(y2,9,axis=0)\n",
    "    y=np.concatenate((y1,y2),axis=0)\n",
    "    i=[i for i in range(len(y))]\n",
    "    np.random.shuffle(i)\n",
    "    return X[i],y[i]\n",
    "X_train,y_train=balance_classes(X_train,y_train)\n",
    "def one_hot_encoder(X):\n",
    "    N=len(X)\n",
    "    K=len(set(X))\n",
    "    Z=np.zeros((N,K))\n",
    "    for i in range(N):\n",
    "        c=X[i]\n",
    "        Z[i,c]=1\n",
    "    return Z"
   ]
  },
  {
   "cell_type": "code",
   "execution_count": 2,
   "metadata": {},
   "outputs": [],
   "source": [
    "import torch as t"
   ]
  },
  {
   "cell_type": "code",
   "execution_count": 3,
   "metadata": {},
   "outputs": [
    {
     "data": {
      "text/plain": [
       "{0, 1, 2, 3, 4, 5, 6}"
      ]
     },
     "execution_count": 3,
     "metadata": {},
     "output_type": "execute_result"
    }
   ],
   "source": [
    "set(y_train)"
   ]
  },
  {
   "cell_type": "code",
   "execution_count": 4,
   "metadata": {},
   "outputs": [],
   "source": [
    "device = t.device(\"cuda:0\" if t.cuda.is_available() else \"cpu\")"
   ]
  },
  {
   "cell_type": "code",
   "execution_count": 5,
   "metadata": {},
   "outputs": [
    {
     "data": {
      "text/plain": [
       "7178"
      ]
     },
     "execution_count": 5,
     "metadata": {},
     "output_type": "execute_result"
    }
   ],
   "source": [
    "len(X_test)"
   ]
  },
  {
   "cell_type": "code",
   "execution_count": 15,
   "metadata": {},
   "outputs": [],
   "source": [
    "class LeNet(t.nn.Module):\n",
    "    def __init__(self):\n",
    "        super().__init__()\n",
    "        self.conv1=t.nn.Conv2d(1,20,5,1)\n",
    "        self.conv2=t.nn.Conv2d(20,50,5,1)   \n",
    "        self.fc1=t.nn.Linear(9*9*50,500)\n",
    "        self.fc2=t.nn.Linear(500,7)\n",
    "        self.dropout1 = t.nn.Dropout(0.5)\n",
    "    def forward(self,x):\n",
    "        x=t.nn.functional.leaky_relu(self.conv1(x))\n",
    "        x=t.nn.functional.max_pool2d(x,2,2)\n",
    "        x=t.nn.functional.relu(self.conv2(x))\n",
    "        x=t.nn.functional.max_pool2d(x,2,2)\n",
    "        x=x.view(-1,9*9*50)\n",
    "        x=t.nn.functional.relu(self.fc1(x))\n",
    "        x=self.dropout1(x)\n",
    "        x=self.fc2(x)\n",
    "        return x\n",
    "    "
   ]
  },
  {
   "cell_type": "code",
   "execution_count": 16,
   "metadata": {},
   "outputs": [
    {
     "data": {
      "text/plain": [
       "LeNet(\n",
       "  (conv1): Conv2d(1, 20, kernel_size=(5, 5), stride=(1, 1))\n",
       "  (conv2): Conv2d(20, 50, kernel_size=(5, 5), stride=(1, 1))\n",
       "  (fc1): Linear(in_features=4050, out_features=500, bias=True)\n",
       "  (fc2): Linear(in_features=500, out_features=7, bias=True)\n",
       "  (dropout1): Dropout(p=0.5)\n",
       ")"
      ]
     },
     "execution_count": 16,
     "metadata": {},
     "output_type": "execute_result"
    }
   ],
   "source": [
    "model = LeNet().to(device)\n",
    "model"
   ]
  },
  {
   "cell_type": "code",
   "execution_count": 17,
   "metadata": {},
   "outputs": [],
   "source": [
    "criterion = t.nn.CrossEntropyLoss()\n",
    "optimizer = t.optim.Adam(model.parameters(), lr = 0.001)"
   ]
  },
  {
   "cell_type": "code",
   "execution_count": 18,
   "metadata": {},
   "outputs": [],
   "source": [
    "inputs=X_train.reshape(32197,1,48,48)\n",
    "labels=y_train"
   ]
  },
  {
   "cell_type": "code",
   "execution_count": 19,
   "metadata": {},
   "outputs": [],
   "source": [
    "val_inputs_X=X_test.reshape(7178,1,48,48)\n",
    "val_labels_y=y_test"
   ]
  },
  {
   "cell_type": "code",
   "execution_count": 20,
   "metadata": {},
   "outputs": [
    {
     "data": {
      "text/plain": [
       "(1, 48, 48)"
      ]
     },
     "execution_count": 20,
     "metadata": {},
     "output_type": "execute_result"
    }
   ],
   "source": [
    "inputs[1].shape\n"
   ]
  },
  {
   "cell_type": "code",
   "execution_count": 21,
   "metadata": {},
   "outputs": [],
   "source": [
    "n_batches=320\n",
    "batch_sz=100"
   ]
  },
  {
   "cell_type": "code",
   "execution_count": 22,
   "metadata": {},
   "outputs": [
    {
     "name": "stdout",
     "output_type": "stream",
     "text": [
      "epoch : 1\n",
      "training loss: 0.0177, acc 0.2944 \n",
      "validation loss: 0.0002, validation acc 0.3941 \n",
      "epoch : 2\n",
      "training loss: 0.0150, acc 0.4255 \n",
      "validation loss: 0.0002, validation acc 0.4296 \n",
      "epoch : 3\n",
      "training loss: 0.0134, acc 0.4873 \n",
      "validation loss: 0.0002, validation acc 0.4629 \n",
      "epoch : 4\n",
      "training loss: 0.0124, acc 0.5282 \n",
      "validation loss: 0.0002, validation acc 0.4682 \n",
      "epoch : 5\n",
      "training loss: 0.0116, acc 0.5564 \n",
      "validation loss: 0.0002, validation acc 0.4773 \n",
      "epoch : 6\n",
      "training loss: 0.0110, acc 0.5746 \n",
      "validation loss: 0.0002, validation acc 0.4845 \n",
      "epoch : 7\n",
      "training loss: 0.0106, acc 0.5931 \n",
      "validation loss: 0.0002, validation acc 0.4794 \n",
      "epoch : 8\n",
      "training loss: 0.0102, acc 0.6120 \n",
      "validation loss: 0.0002, validation acc 0.4865 \n",
      "epoch : 9\n",
      "training loss: 0.0098, acc 0.6221 \n",
      "validation loss: 0.0002, validation acc 0.4911 \n",
      "epoch : 10\n",
      "training loss: 0.0094, acc 0.6391 \n",
      "validation loss: 0.0002, validation acc 0.4951 \n",
      "epoch : 11\n",
      "training loss: 0.0091, acc 0.6505 \n",
      "validation loss: 0.0002, validation acc 0.4902 \n",
      "epoch : 12\n",
      "training loss: 0.0087, acc 0.6643 \n",
      "validation loss: 0.0002, validation acc 0.4975 \n",
      "epoch : 13\n",
      "training loss: 0.0084, acc 0.6750 \n",
      "validation loss: 0.0002, validation acc 0.4928 \n",
      "epoch : 14\n",
      "training loss: 0.0081, acc 0.6892 \n",
      "validation loss: 0.0002, validation acc 0.4974 \n",
      "epoch : 15\n",
      "training loss: 0.0078, acc 0.7007 \n",
      "validation loss: 0.0002, validation acc 0.4983 \n",
      "epoch : 16\n",
      "training loss: 0.0075, acc 0.7141 \n",
      "validation loss: 0.0002, validation acc 0.4923 \n",
      "epoch : 17\n",
      "training loss: 0.0072, acc 0.7217 \n",
      "validation loss: 0.0002, validation acc 0.4944 \n",
      "epoch : 18\n",
      "training loss: 0.0070, acc 0.7291 \n",
      "validation loss: 0.0002, validation acc 0.4859 \n",
      "epoch : 19\n",
      "training loss: 0.0068, acc 0.7383 \n",
      "validation loss: 0.0002, validation acc 0.4912 \n",
      "epoch : 20\n",
      "training loss: 0.0065, acc 0.7458 \n",
      "validation loss: 0.0002, validation acc 0.4851 \n",
      "epoch : 21\n",
      "training loss: 0.0063, acc 0.7563 \n",
      "validation loss: 0.0002, validation acc 0.4840 \n",
      "epoch : 22\n",
      "training loss: 0.0060, acc 0.7683 \n",
      "validation loss: 0.0003, validation acc 0.4936 \n",
      "epoch : 23\n",
      "training loss: 0.0058, acc 0.7760 \n",
      "validation loss: 0.0003, validation acc 0.4834 \n",
      "epoch : 24\n",
      "training loss: 0.0056, acc 0.7825 \n",
      "validation loss: 0.0003, validation acc 0.4826 \n",
      "epoch : 25\n",
      "training loss: 0.0054, acc 0.7912 \n",
      "validation loss: 0.0003, validation acc 0.4859 \n",
      "epoch : 26\n",
      "training loss: 0.0053, acc 0.7945 \n",
      "validation loss: 0.0003, validation acc 0.4960 \n",
      "epoch : 27\n",
      "training loss: 0.0051, acc 0.8028 \n",
      "validation loss: 0.0003, validation acc 0.4897 \n",
      "epoch : 28\n",
      "training loss: 0.0049, acc 0.8091 \n",
      "validation loss: 0.0003, validation acc 0.4882 \n",
      "epoch : 29\n",
      "training loss: 0.0048, acc 0.8109 \n",
      "validation loss: 0.0003, validation acc 0.4889 \n",
      "epoch : 30\n",
      "training loss: 0.0048, acc 0.8130 \n",
      "validation loss: 0.0003, validation acc 0.4904 \n",
      "epoch : 31\n",
      "training loss: 0.0047, acc 0.8145 \n",
      "validation loss: 0.0003, validation acc 0.4900 \n",
      "epoch : 32\n",
      "training loss: 0.0045, acc 0.8255 \n",
      "validation loss: 0.0003, validation acc 0.4861 \n",
      "epoch : 33\n",
      "training loss: 0.0043, acc 0.8280 \n",
      "validation loss: 0.0003, validation acc 0.4898 \n",
      "epoch : 34\n",
      "training loss: 0.0043, acc 0.8282 \n",
      "validation loss: 0.0003, validation acc 0.4876 \n",
      "epoch : 35\n",
      "training loss: 0.0041, acc 0.8392 \n",
      "validation loss: 0.0004, validation acc 0.4844 \n",
      "epoch : 36\n",
      "training loss: 0.0040, acc 0.8429 \n",
      "validation loss: 0.0004, validation acc 0.4868 \n",
      "epoch : 37\n",
      "training loss: 0.0039, acc 0.8446 \n",
      "validation loss: 0.0004, validation acc 0.4869 \n",
      "epoch : 38\n",
      "training loss: 0.0038, acc 0.8509 \n",
      "validation loss: 0.0004, validation acc 0.4936 \n",
      "epoch : 39\n",
      "training loss: 0.0037, acc 0.8525 \n",
      "validation loss: 0.0004, validation acc 0.4837 \n",
      "epoch : 40\n",
      "training loss: 0.0037, acc 0.8534 \n",
      "validation loss: 0.0004, validation acc 0.4877 \n",
      "epoch : 41\n",
      "training loss: 0.0036, acc 0.8568 \n",
      "validation loss: 0.0004, validation acc 0.4854 \n",
      "epoch : 42\n",
      "training loss: 0.0035, acc 0.8610 \n",
      "validation loss: 0.0004, validation acc 0.4820 \n",
      "epoch : 43\n",
      "training loss: 0.0034, acc 0.8603 \n",
      "validation loss: 0.0004, validation acc 0.4879 \n",
      "epoch : 44\n",
      "training loss: 0.0034, acc 0.8661 \n",
      "validation loss: 0.0004, validation acc 0.4907 \n",
      "epoch : 45\n",
      "training loss: 0.0032, acc 0.8692 \n",
      "validation loss: 0.0004, validation acc 0.4870 \n",
      "epoch : 46\n",
      "training loss: 0.0032, acc 0.8693 \n",
      "validation loss: 0.0004, validation acc 0.4857 \n",
      "epoch : 47\n",
      "training loss: 0.0032, acc 0.8733 \n",
      "validation loss: 0.0004, validation acc 0.4831 \n",
      "epoch : 48\n",
      "training loss: 0.0030, acc 0.8787 \n",
      "validation loss: 0.0004, validation acc 0.4862 \n",
      "epoch : 49\n",
      "training loss: 0.0031, acc 0.8760 \n",
      "validation loss: 0.0004, validation acc 0.4805 \n",
      "epoch : 50\n",
      "training loss: 0.0031, acc 0.8776 \n",
      "validation loss: 0.0004, validation acc 0.4829 \n"
     ]
    }
   ],
   "source": [
    "epochs = 50\n",
    "running_loss_history = []\n",
    "running_corrects_history = []\n",
    "val_running_loss_history = []\n",
    "val_running_corrects_history = []\n",
    "for e in range(epochs):\n",
    "    running_loss = 0.0\n",
    "    running_corrects = 0.0\n",
    "    val_running_loss = 0.0\n",
    "    val_running_corrects = 0.0\n",
    "    for j in range(n_batches):\n",
    "        Xbatch = inputs[j*batch_sz:(j*batch_sz+batch_sz)]\n",
    "        Ybatch = labels[j*batch_sz:(j*batch_sz+batch_sz)]\n",
    "        inputs_b = t.tensor(Xbatch).to(device)\n",
    "        labels_b = t.tensor(Ybatch).to(device)\n",
    "        outputs = model(inputs_b)\n",
    "        loss = criterion(outputs, labels_b)\n",
    "        optimizer.zero_grad()\n",
    "        loss.backward()\n",
    "        optimizer.step()\n",
    "        _, preds = t.max(outputs, 1)\n",
    "        running_loss += loss.item()\n",
    "        running_corrects += t.sum(preds == labels_b.data)\n",
    "    with t.no_grad():\n",
    "        val_inputs = t.tensor(val_inputs_X).to(device)\n",
    "        val_labels = t.tensor(val_labels_y).to(device)\n",
    "        val_outputs = model(val_inputs)\n",
    "        val_loss = criterion(val_outputs, val_labels)\n",
    "        _, val_preds = t.max(val_outputs, 1)\n",
    "        val_running_loss += val_loss.item()\n",
    "        val_running_corrects += t.sum(val_preds == val_labels.data)\n",
    "    epoch_loss = running_loss/len(inputs)\n",
    "    epoch_acc = running_corrects.float()/ len(inputs)\n",
    "    running_loss_history.append(epoch_loss)\n",
    "    running_corrects_history.append(epoch_acc)\n",
    "    val_epoch_loss = val_running_loss/len(val_inputs)\n",
    "    val_epoch_acc = val_running_corrects.float()/ len(val_inputs)\n",
    "    val_running_loss_history.append(val_epoch_loss)\n",
    "    val_running_corrects_history.append(val_epoch_acc)\n",
    "    print('epoch :', (e+1))\n",
    "    print('training loss: {:.4f}, acc {:.4f} '.format(epoch_loss, epoch_acc.item()))\n",
    "    print('validation loss: {:.4f}, validation acc {:.4f} '.format(val_epoch_loss, val_epoch_acc.item()))"
   ]
  },
  {
   "cell_type": "code",
   "execution_count": 23,
   "metadata": {},
   "outputs": [
    {
     "data": {
      "text/plain": [
       "<matplotlib.legend.Legend at 0x22ea148dba8>"
      ]
     },
     "execution_count": 23,
     "metadata": {},
     "output_type": "execute_result"
    },
    {
     "data": {
      "image/png": "[encoded data removed]",
      "text/plain": [
       "<Figure size 432x288 with 1 Axes>"
      ]
     },
     "metadata": {},
     "output_type": "display_data"
    }
   ],
   "source": [
    "plt.plot(running_loss_history, label='training loss')\n",
    "plt.plot(val_running_loss_history, label='validation loss')\n",
    "plt.legend()"
   ]
  },
  {
   "cell_type": "code",
   "execution_count": 24,
   "metadata": {},
   "outputs": [
    {
     "data": {
      "text/plain": [
       "<matplotlib.legend.Legend at 0x22ea1ffff98>"
      ]
     },
     "execution_count": 24,
     "metadata": {},
     "output_type": "execute_result"
    },
    {
     "data": {
      "image/png": "[encoded data removed]",
      "text/plain": [
       "<Figure size 432x288 with 1 Axes>"
      ]
     },
     "metadata": {},
     "output_type": "display_data"
    }
   ],
   "source": [
    "plt.plot(running_corrects_history, label='training accuracy')\n",
    "plt.plot(val_running_corrects_history, label='validation accuracy')\n",
    "plt.legend()"
   ]
  },
  {
   "cell_type": "code",
   "execution_count": null,
   "metadata": {},
   "outputs": [],
   "source": []
  }
 ],
 "metadata": {
  "kernelspec": {
   "display_name": "Python 3",
   "language": "python",
   "name": "python3"
  },
  "language_info": {
   "codemirror_mode": {
    "name": "ipython",
    "version": 3
   },
   "file_extension": ".py",
   "mimetype": "text/x-python",
   "name": "python",
   "nbconvert_exporter": "python",
   "pygments_lexer": "ipython3",
   "version": "3.6.5"
  }
 },
 "nbformat": 4,
 "nbformat_minor": 2
}
