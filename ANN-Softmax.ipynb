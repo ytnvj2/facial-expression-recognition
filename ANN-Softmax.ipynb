{
 "cells": [
  {
   "cell_type": "code",
   "execution_count": 1,
   "metadata": {},
   "outputs": [],
   "source": [
    "import pandas as pd\n",
    "import numpy as np\n",
    "import os\n",
    "import matplotlib.pyplot as plt\n",
    "raw_data_path=os.path.join('data','raw')\n",
    "df=pd.read_csv(os.path.join(raw_data_path,'fer2013.csv'))\n",
    "X=[]\n",
    "for i in range(len(df)):\n",
    "    X.append(df.loc[i,'pixels'].split(' '))\n",
    "X=np.array(X,np.float32)/255.\n",
    "y=df.emotion.values\n",
    "X_train=X[np.where(df.Usage=='Training')]\n",
    "y_train=y[np.where((df.Usage=='Training'))]\n",
    "X_test=X[np.where((df.Usage!='Training'))]\n",
    "y_test=y[np.where((df.Usage!='Training'))]\n",
    "def balance_classes(X,y):\n",
    "    X1=X[np.where(y!=1)]\n",
    "    X2=X[np.where(y==1)]\n",
    "    X2=np.repeat(X2,9,axis=0)\n",
    "    X=np.concatenate((X1,X2),axis=0)\n",
    "    y1=y[np.where(y!=1)]\n",
    "    y2=y[np.where(y==1)]\n",
    "    y2=np.repeat(y2,9,axis=0)\n",
    "    y=np.concatenate((y1,y2),axis=0)\n",
    "    i=[i for i in range(len(y))]\n",
    "    np.random.shuffle(i)\n",
    "    return X[i],y[i]\n",
    "X_train,y_train=balance_classes(X_train,y_train)\n",
    "def one_hot_encoder(X):\n",
    "    N=len(X)\n",
    "    K=len(set(X))\n",
    "    Z=np.zeros((N,K))\n",
    "    for i in range(N):\n",
    "        c=X[i]\n",
    "        Z[i,c]=1\n",
    "    return Z\n",
    "y_train=one_hot_encoder(y_train)"
   ]
  },
  {
   "cell_type": "code",
   "execution_count": 16,
   "metadata": {},
   "outputs": [],
   "source": [
    "class ANN(object):\n",
    "    def __init__(self,lr,epoch,hu):\n",
    "        self.lr=lr\n",
    "        self.epoch=epoch\n",
    "        self.hu=hu\n",
    "    def relu(self,z):\n",
    "        return z*(z>0)\n",
    "    def sigmoid(self,z):\n",
    "        return 1/(1+np.exp(-z))\n",
    "    def softmax(self,a):\n",
    "        return np.exp(a)/(np.exp(a).sum(axis=1,keepdims=True))\n",
    "    def forward(self,X,W1,b1,W2,b2):\n",
    "        z=self.relu(X.dot(W1)+b1)\n",
    "#         return z,self.sigmoid(z.dot(W2)+b2)\n",
    "        return z,self.softmax(z.dot(W2)+b2)\n",
    "    def cost(self,y,y_p):\n",
    "#         return -(y*np.log(y_p)+(1-y)*np.log(1-y_p)).sum()\n",
    "        return -(y*np.log(y_p)).sum()\n",
    "    def fit(self,X,y,fig=False):\n",
    "        N,D=X.shape\n",
    "        K=y.shape[1]\n",
    "        W1=np.random.randn(D,self.hu)\n",
    "        b1=np.random.randn(self.hu)\n",
    "        W2=np.random.randn(self.hu,K)\n",
    "        b2=np.random.randn(K)\n",
    "        tr_i=np.random.choice(N,int(N*0.9),replace=False)\n",
    "        t_i=[i for i in range(N) if i not in tr_i]\n",
    "        X_t=X[tr_i]\n",
    "        y_t=y[tr_i]\n",
    "        X_v=X[t_i]\n",
    "        y_v=y[t_i]\n",
    "        c_t=[]\n",
    "        c_v=[]\n",
    "        cl_t=[]\n",
    "        cl_v=[]\n",
    "        for i in range(self.epoch):\n",
    "            z,y_p_t=self.forward(X_t,W1,b1,W2,b2)\n",
    "            _,y_p_v=self.forward(X_v,W1,b1,W2,b2)\n",
    "            dy=y_p_t-y_t\n",
    "            W2=W2-self.lr*(z.T.dot(dy))\n",
    "            b2=b2-self.lr*(dy).sum(axis=0)\n",
    "            dz=dy.dot(W2.T)*(z>0)\n",
    "            W1=W1-self.lr*X_t.T.dot(dz)\n",
    "            b1=b1-self.lr*(dz).sum(axis=0)\n",
    "            c_t.append(self.cost(y_t,y_p_t))\n",
    "            c_v.append(self.cost(y_v,y_p_v))\n",
    "            cl_t.append(np.mean(y_t.argmax(axis=1)==(y_p_t.argmax(axis=1))))\n",
    "            cl_v.append(np.mean(y_v.argmax(axis=1)==(y_p_v.argmax(axis=1))))\n",
    "            if i % 100==0:\n",
    "                print('Epoch {0} Train Cost , Classification : {1}  , {2} Test Cost , Classification : {3}  , {4}'.format(i,\n",
    "                                                                                                                          c_t[i],\n",
    "                                                                                                                         cl_t[i],\n",
    "                                                                                                                         c_v[i],\n",
    "                                                                                                                         cl_v[i]))\n",
    "        self.W2=W2\n",
    "        self.W1=W1\n",
    "        self.b2=b2\n",
    "        self.b1=b1\n",
    "        self.c_t=c_t\n",
    "        self.c_v=c_v\n",
    "        self.cl_t=cl_t\n",
    "        self.cl_v=cl_v\n",
    "        if fig==True:\n",
    "            plt.plot(c_t,label='Train Cost')\n",
    "            plt.plot(c_v,label='Test Cost')\n",
    "            plt.show()\n",
    "            plt.plot(cl_t,label='Train Class')\n",
    "            plt.plot(cl_v,label='Test Class')\n",
    "            plt.show()\n",
    "    def predict(self,X):\n",
    "        _,y_p=self.forward(X,self.W1,self.b1,self.W2,self.b2)\n",
    "        return (y_p).argmax(axis=1)\n",
    "    def score(self,y,y_p):\n",
    "        return np.mean(y==y_p)\n"
   ]
  },
  {
   "cell_type": "code",
   "execution_count": 17,
   "metadata": {},
   "outputs": [],
   "source": [
    "ann=ANN(0.0000001,1000,5)"
   ]
  },
  {
   "cell_type": "code",
   "execution_count": 18,
   "metadata": {},
   "outputs": [
    {
     "name": "stdout",
     "output_type": "stream",
     "text": [
      "Epoch 0 Train Cost , Classification : 1917074.0407930047  , 0.10270214307899368 Test Cost , Classification : 211516.13013447553  , 0.10434782608695652\n",
      "Epoch 100 Train Cost , Classification : 93796.25792790978  , 0.11226144873520379 Test Cost , Classification : 10206.002266135027  , 0.11490683229813664\n",
      "Epoch 200 Train Cost , Classification : 77845.12958452787  , 0.10497981157469717 Test Cost , Classification : 8363.90031939311  , 0.10683229813664596\n",
      "Epoch 300 Train Cost , Classification : 73112.93960790131  , 0.10256410256410256 Test Cost , Classification : 7867.329035118442  , 0.10279503105590063\n",
      "Epoch 400 Train Cost , Classification : 70467.47918529871  , 0.10183938986092418 Test Cost , Classification : 7625.495656414239  , 0.10248447204968944\n",
      "Epoch 500 Train Cost , Classification : 68711.03043429393  , 0.10132173793008248 Test Cost , Classification : 7465.537398438161  , 0.10186335403726708\n",
      "Epoch 600 Train Cost , Classification : 67385.1684849123  , 0.10087310625668634 Test Cost , Classification : 7340.461772837038  , 0.10248447204968944\n",
      "Epoch 700 Train Cost , Classification : 66291.46402569055  , 0.10076957587051799 Test Cost , Classification : 7236.368159220425  , 0.10186335403726708\n",
      "Epoch 800 Train Cost , Classification : 65387.742982451455  , 0.10063153535562688 Test Cost , Classification : 7147.440223967231  , 0.10186335403726708\n",
      "Epoch 900 Train Cost , Classification : 64626.30224825254  , 0.10066604548434965 Test Cost , Classification : 7071.7560501520475  , 0.1015527950310559\n"
     ]
    },
    {
     "data": {
      "image/png": "[encoded data removed]",
      "text/plain": [
       "<Figure size 432x288 with 1 Axes>"
      ]
     },
     "metadata": {},
     "output_type": "display_data"
    },
    {
     "data": {
      "image/png": "[encoded data removed]",
      "text/plain": [
       "<Figure size 432x288 with 1 Axes>"
      ]
     },
     "metadata": {},
     "output_type": "display_data"
    }
   ],
   "source": [
    "ann.fit(X_train,y_train,fig=True)"
   ]
  },
  {
   "cell_type": "code",
   "execution_count": 8,
   "metadata": {},
   "outputs": [
    {
     "data": {
      "text/plain": [
       "array([[0., 0., 0., 1., 0., 0., 0.],\n",
       "       [0., 1., 0., 0., 0., 0., 0.],\n",
       "       [0., 0., 0., 0., 0., 0., 1.],\n",
       "       [0., 0., 0., 0., 0., 0., 1.]])"
      ]
     },
     "execution_count": 8,
     "metadata": {},
     "output_type": "execute_result"
    }
   ],
   "source": [
    "y_train[[1,2,3,4]]"
   ]
  },
  {
   "cell_type": "code",
   "execution_count": null,
   "metadata": {},
   "outputs": [],
   "source": []
  }
 ],
 "metadata": {
  "kernelspec": {
   "display_name": "Python 3",
   "language": "python",
   "name": "python3"
  },
  "language_info": {
   "codemirror_mode": {
    "name": "ipython",
    "version": 3
   },
   "file_extension": ".py",
   "mimetype": "text/x-python",
   "name": "python",
   "nbconvert_exporter": "python",
   "pygments_lexer": "ipython3",
   "version": "3.6.5"
  }
 },
 "nbformat": 4,
 "nbformat_minor": 2
}
